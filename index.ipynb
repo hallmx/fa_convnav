{
 "cells": [
  {
   "cell_type": "code",
   "execution_count": null,
   "metadata": {},
   "outputs": [
    {
     "name": "stdout",
     "output_type": "stream",
     "text": [
      "Drive already mounted at /content/drive; to attempt to forcibly remount, call drive.mount(\"/content/drive\", force_remount=True).\n"
     ]
    }
   ],
   "source": [
    "#hide\n",
    "from google.colab import drive\n",
    "drive.mount('/content/drive')"
   ]
  },
  {
   "cell_type": "code",
   "execution_count": null,
   "metadata": {},
   "outputs": [],
   "source": [
    "#hide\n",
    "!pip install nbdev\n",
    "!pip install fastcore"
   ]
  },
  {
   "cell_type": "code",
   "execution_count": null,
   "metadata": {},
   "outputs": [
    {
     "name": "stdout",
     "output_type": "stream",
     "text": [
      "/content/drive/My Drive/fa_convnav\n"
     ]
    }
   ],
   "source": [
    "#hide\n",
    "% cd /content/drive/My\\ Drive/fa_convnav"
   ]
  },
  {
   "cell_type": "markdown",
   "metadata": {},
   "source": [
    "# Welcome to fa_ConvNav\n",
    "\n",
    "> CNN viewer and element selector.\n",
    "\n",
    "\n",
    "\n",
    "\n"
   ]
  },
  {
   "cell_type": "markdown",
   "metadata": {},
   "source": [
    "fa_convnav works with the fastai deep learning library, allowing users to explore convolutional neural network (CNN)  structure and composition as well as select modules and layers for further investigation using pytorch hooks and fastai callbacks.  \n",
    "\n",
    "fa_convnav provides native support for the following types of CNN model: \n",
    "\n",
    "* VGG\n",
    "* alexnet\n",
    "* resnets\n",
    "* squeezenets\n",
    "* densenets\n",
    "* xresnets\n",
    "\n",
    "With minor ammendments to the code, fa_convnav can be adapted for use with other CNN architectures and custom CNN models.\n",
    "\n",
    "**A note about naming.** Naming conventions for the elements of a CNN is confusing. Here we adhere as closely as possible to that used by pytorch and fastai. \n",
    "\n",
    "\n",
    "*   **'layers'** are the processing units of the model, e.g. `conv2d`, `batchnorm2d`, `maxpool`, `relu` etc\n",
    "*   **'modules'** may be layers but also container elements such as `cnn.sequential` or custom container elements such as resnet `BasicBlocks` or densenet `_DenseLayers`. Container modules can also contain the entire head or body of the model, or even the entire model.\n",
    "*   **'container'** elements do not do any processing of information themselves but functionally group CNN submodules and layers together.\n",
    "*   **'elements'** are all the elements that make up the CNN, both container and non-container layers and modules.\n",
    "*  **'divisions'** refers to the head or body of a transfer learning model\n",
    "*  **'model'** refers to a pre-trained architecture imported from the fastai library or custom architecture with a body and head structure. \n",
    "*  **architecture** is an untrained neural network\n"
   ]
  },
  {
   "cell_type": "markdown",
   "metadata": {},
   "source": [
    "## Install"
   ]
  },
  {
   "cell_type": "markdown",
   "metadata": {},
   "source": [
    "\n",
    "```\n",
    "pip install fa_convnav\n",
    "```\n"
   ]
  },
  {
   "cell_type": "markdown",
   "metadata": {},
   "source": [
    "## Usage"
   ]
  },
  {
   "cell_type": "markdown",
   "metadata": {},
   "source": [
    "\n",
    "\n",
    "First create deep learning vision project using a pretrained model downloaded from fastai, a pretrained model with custom head or a custom pytorch model. Creating a fastai2 vision project using a CNN and transfer learning is described in the [fastai documentation](https://dev.fast.ai/) and examples are given in examples00.ipynb and examples 01.ipynb. "
   ]
  },
  {
   "cell_type": "markdown",
   "metadata": {},
   "source": [
    "### Create and view a ConvNav dataframe."
   ]
  },
  {
   "cell_type": "markdown",
   "metadata": {},
   "source": [
    "```\n",
    "from fa_convnav.navigator import *\n",
    "```"
   ]
  },
  {
   "cell_type": "markdown",
   "metadata": {},
   "source": [
    "With a fastai learner object `learner`, create a ConvNav instance from `learner` and `layer_info(learner)` method:\n",
    "\n",
    "```\n",
    "cn = ConvNav(learner, layer_info(learner)\n",
    "```\n",
    "\n",
    "The model type and name are automatically detected and a dataframe of CNN model information built. ConvNav dataframes combine an intuitive representation of the model architecture along with the description, class, output dimensions, parameters and frozen/unfrozen status of each module and layer.\n",
    "\n",
    "View a ConvNav dataframe:\n",
    "\n",
    "```\n",
    "cn.view()\n",
    "```\n",
    "\n",
    "or \n",
    "\n",
    "```\n",
    "cn() *prints just the first ten rows\n",
    "```  "
   ]
  },
  {
   "cell_type": "markdown",
   "metadata": {},
   "source": [
    "### Searching a ConvNav dataframe and selecting model elements"
   ]
  },
  {
   "cell_type": "markdown",
   "metadata": {},
   "source": [
    "ConvNav dataframes can be searched and any element(s) (modules, blocks or layers) can be selected using ConvNav functions. \n",
    "\n",
    "*   Search for elements by module name, module type, layer description etc. Note that module names are those returned by the fastai named_modules() method. \n",
    "*   Select modules/layers individually, in blocks or by higher level containers, or by type of layer\n",
    "*   View summaries of model head and body \n",
    "\n",
    "For example, \n",
    "\n",
    "```\n",
    "cn.search('0.0.2', exact=True)\n",
    "```\n",
    "\n",
    "Searches for the module with module_name '0.0.2'. \n",
    "\n",
    "```\n",
    "cn.spread(req='conv', num=8)\n",
    "```\n",
    "\n",
    "Returns eight conv2d layers equally spaced between the first and last modules of the model body.\n",
    "\n",
    "```\n",
    "cn.divs\n",
    "```\n",
    "\n",
    "Prints summary information for the model body and head. \n",
    "\n",
    "In most cases module/layer selections are displayed as a dataframe and the associated element objects returned for use with hooks and callbacks. "
   ]
  },
  {
   "cell_type": "markdown",
   "metadata": {},
   "source": [
    "## Examples\n"
   ]
  },
  {
   "cell_type": "markdown",
   "metadata": {},
   "source": [
    "See the example notebooks, examples00.ipynb and examples01.ipynb, and for further description and code of how to use fa_convnav "
   ]
  },
  {
   "cell_type": "markdown",
   "metadata": {},
   "source": [
    "## Tests"
   ]
  },
  {
   "cell_type": "markdown",
   "metadata": {},
   "source": [
    "To run test in parallel launch:\n",
    "`nbdev_test_nbs` from the command line \n",
    "or\n",
    "`!nbdev_test_nbs` from inside a Jupyter Notebook with nbdev installed"
   ]
  },
  {
   "cell_type": "markdown",
   "metadata": {},
   "source": [
    "## Docs\n",
    "\n",
    "This project, it's github repo and documentation were all built using the fastai nbdev literate programming environment for Jupyter Notebooks. Find out more about nbdev and use it in your own project [here](https://github.com/fastai/nbdev)"
   ]
  },
  {
   "cell_type": "markdown",
   "metadata": {},
   "source": [
    "## Contributing\n",
    "\n",
    "After you clone this repository, please run nbdev_install_git_hooks in your terminal. This sets up git hooks, which clean up the notebooks to remove the extraneous stuff stored in the notebooks (e.g. which cells you ran) which causes unnecessary merge conflicts.\n",
    "\n",
    "Before submitting a PR, check that the local library and notebooks match. The script nbdev_diff_nbs can let you know if there is a difference between the local library and the notebooks.\n",
    "\n",
    "If you made a change to the notebooks in one of the exported cells, you can export it to the library with nbdev_build_lib or make fastai2.\n",
    "If you made a change to the library, you can export it back to the notebooks with nbdev_update_lib."
   ]
  }
 ],
 "metadata": {
  "kernelspec": {
   "display_name": "Python 3",
   "language": "python",
   "name": "python3"
  }
 },
 "nbformat": 4,
 "nbformat_minor": 0
}
