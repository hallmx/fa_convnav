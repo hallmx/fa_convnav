{
 "cells": [
  {
   "cell_type": "markdown",
   "metadata": {},
   "source": [
    "# Welcome to fa_convnav\n",
    "\n",
    "> CNN viewer and element selector.\n",
    "\n",
    "\n",
    "\n",
    "\n"
   ]
  },
  {
   "cell_type": "markdown",
   "metadata": {},
   "source": [
    "fa_convnav works with the fastai deep learning library, allowing users to explore convolutional neural network (CNN)  structure and composition as well as select modules and layers for further investigation using hooks and callbacks.  \n",
    "\n",
    "fa_convnav provides native support for the following types of CNN model: \n",
    "\n",
    "* VGG\n",
    "* alexnet\n",
    "* resnets\n",
    "* squeezenets\n",
    "* densenets\n",
    "* xresnets\n",
    "\n",
    "With minimal code changes, fa_convnav can also be adapted for use with other CNN architectures and custom CNN models.\n",
    "\n",
    "**A note about naming.** Naming conventions for the elements of a CNN is confusing with many terms such as layer and module used interchangeably. Here we use the following definitions to describe a CNN. \n",
    "\n",
    "\n",
    "*   **'layers'** are the information processing units of the model, they can be single elements (e.g. `conv2d`, `batchnorm2d`, `maxpool`, `relu` etc) or for larger models with deeply nested sequences, a short sequence of elements wrapped in a container element. \n",
    "*   **'modules'** may be layers but also container elements, such as `nn.sequential`, which wrap a sequence of layers.\n",
    "*   **'container'** elements group sequences of CNN layers or modules togather into functional units.\n",
    "*   **'elements'** are all the elements that make up the CNN, both container and non-container,  layers and modules.\n",
    "*  **'divisions'** refer to the head (1) and body (0)  of a transfer learning model\n",
    "*  **'child containers'** are the first tier of nested modules. These usually match the modules returned with the fastai `model.named_children()` method. \n",
    "*   **'Blocks'** are the second tier of nested modules, usually repeating throughout the main bulk of the model and containing a fixed sequence of layers. Depending on the architecture, blocks may have a specific name such as `BasicBlock` or `_DenseBlock`.\n",
    "*  **'model'** refers to a pre-trained architecture with head and body divisions. \n",
    "*  **architecture** is an untrained neural network\n"
   ]
  },
  {
   "cell_type": "markdown",
   "metadata": {},
   "source": [
    "## Install"
   ]
  },
  {
   "cell_type": "markdown",
   "metadata": {},
   "source": [
    "\n",
    "```\n",
    "pip install fa_convnav\n",
    "```\n"
   ]
  },
  {
   "cell_type": "markdown",
   "metadata": {},
   "source": [
    "## How to Use"
   ]
  },
  {
   "cell_type": "markdown",
   "metadata": {},
   "source": [
    "\n",
    "\n",
    "First set up a deep learning vision project using fastai2 and create a Learner object from a dataloader, pretrained model and an optimizer. All the pretrained models installed with the fastai2 library are supported by fa_convnav. Run `convnav_supported_models()` in a notebook cell to see the complete list. \n",
    "\n",
    "If you are not familiar with the fastai/fastai2 library then the [fastai documentation](https://dev.fast.ai/) or most recent[Deep Learning for Coders](https://course.fast.ai/index.html) course are excellent places to start. Alternatively to quickly get a feel for and play around with fastai2 and fa_convnav see the example notebooks, `03_examples00.ipynb` and `04_examples 01.ipynb` in this repo. "
   ]
  },
  {
   "cell_type": "markdown",
   "metadata": {},
   "source": [
    "## Create and view a ConvNav dataframe."
   ]
  },
  {
   "cell_type": "markdown",
   "metadata": {},
   "source": [
    "```\n",
    "from fa_convnav.navigator import *\n",
    "```"
   ]
  },
  {
   "cell_type": "markdown",
   "metadata": {},
   "source": [
    "With a fastai Learner object `Learner`, create a ConvNav instance `cn`:\n",
    "\n",
    "```\n",
    "cn = ConvNav(learner, Learner.summary())\n",
    "```\n",
    "\n",
    "The model type and name are automatically detected and a dataframe of CNN model information built. We will call this a CNDF dataframe. CNDF dataframes combine an intuitive representation of the model architecture along with the description, class, output dimensions, parameters and frozen/unfrozen status of each module and layer.\n",
    "\n",
    "View a CNDF dataframe:\n",
    "\n",
    "```\n",
    "cn.view()\n",
    "```\n",
    "\n",
    "or \n",
    "\n",
    "```\n",
    "cn() *prints just the first ten rows\n",
    "```  "
   ]
  },
  {
   "cell_type": "markdown",
   "metadata": {},
   "source": [
    "## Searching a CNDF dataframe and selecting model elements"
   ]
  },
  {
   "cell_type": "markdown",
   "metadata": {},
   "source": [
    "CNDF dataframes can be viewed whole to see the overall structure of the model as well as subsetted and/or searched for any combination of model element(s). The selected element(s) are displayed and the module objects returned for further use, for example as targets for pytorch hooks and fastai callbacks. CNDF dataframes can also be saved to persistent storage. \n",
    "\n",
    "For example:\n",
    "\n",
    "```\n",
    "cn.divs\n",
    "```\n",
    "\n",
    "Displays summary information for the model body and head. \n",
    "\n",
    "```\n",
    "cn.search('0.0.2', exact=True)\n",
    "```\n",
    "\n",
    "Searches for, displays and returns the module object with module_name '0.0.2'. \n",
    "\n",
    "```\n",
    "cn.spread(req='conv', num=8)\n",
    "```\n",
    "Searches for, displays and returns the module objects for eight `Conv2d` layers equally spaced from start to end of the model.\n",
    "\n"
   ]
  },
  {
   "cell_type": "markdown",
   "metadata": {},
   "source": [
    ""
   ]
  },
  {
   "cell_type": "markdown",
   "metadata": {},
   "source": [
    "## Example notebooks\n"
   ]
  },
  {
   "cell_type": "markdown",
   "metadata": {},
   "source": [
    "Find `03_examples00.ipynb` and `04_examples01.ipynb` in this repo. These contain working examples of fa_convnav used to view a resnet model and select appropriate modules for use in investigating model training. Example notebooks can be downloaded and run in any notebook environment. "
   ]
  },
  {
   "cell_type": "markdown",
   "metadata": {},
   "source": [
    "## Tests"
   ]
  },
  {
   "cell_type": "markdown",
   "metadata": {},
   "source": [
    "To run test in parallel launch:\n",
    "`nbdev_test_nbs` from the command line \n",
    "or\n",
    "`!nbdev_test_nbs` from inside a Jupyter Notebook with nbdev installed"
   ]
  },
  {
   "cell_type": "code",
   "execution_count": null,
   "metadata": {},
   "outputs": [],
   "source": [
    ""
   ]
  },
  {
   "cell_type": "code",
   "execution_count": null,
   "metadata": {},
   "outputs": [],
   "source": [
    ""
   ]
  },
  {
   "cell_type": "markdown",
   "metadata": {},
   "source": [
    "## Docs\n",
    "\n",
    "This project, it's github repo and documentation were all built using the fastai nbdev literate programming environment for Jupyter Notebooks. Find out more about nbdev and how to use it in your own project [here](https://github.com/fastai/nbdev)"
   ]
  },
  {
   "cell_type": "markdown",
   "metadata": {},
   "source": [
    "## Contributing\n",
    "\n",
    "After you clone this repository, please run nbdev_install_git_hooks in your terminal. This sets up git hooks, which clean up the notebooks to remove the extraneous stuff stored in the notebooks (e.g. which cells you ran) which causes unnecessary merge conflicts.\n",
    "\n",
    "Before submitting a PR, check that the local library and notebooks match. The script nbdev_diff_nbs can let you know if there is a difference between the local library and the notebooks.\n"
   ]
  },
  {
   "cell_type": "markdown",
   "metadata": {},
   "source": [
    "## Copyright"
   ]
  },
  {
   "cell_type": "markdown",
   "metadata": {},
   "source": [
    "\n",
    "Copyright 2020 onwards, Mathew Hall, Licensed under the Apache License, Version 2.0 (the \"License\"); you may not use this project's files except in compliance with the License. A copy of the License is provided in the LICENSE file in this repository"
   ]
  }
 ],
 "metadata": {
  "kernelspec": {
   "display_name": "Python 3",
   "language": "python",
   "name": "python3"
  }
 },
 "nbformat": 4,
 "nbformat_minor": 0
}
