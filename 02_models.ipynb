{
 "cells": [
  {
   "cell_type": "code",
   "execution_count": null,
   "metadata": {},
   "outputs": [],
   "source": [
    "# default_exp models"
   ]
  },
  {
   "cell_type": "code",
   "execution_count": null,
   "metadata": {},
   "outputs": [
    {
     "name": "stdout",
     "output_type": "stream",
     "text": [
      "Go to this URL in a browser: https://accounts.google.com/o/oauth2/auth?client_id=947318989803-6bn6qk8qdgf4n4g3pfee6491hc0brc4i.apps.googleusercontent.com&redirect_uri=urn%3aietf%3awg%3aoauth%3a2.0%3aoob&response_type=code&scope=email%20https%3a%2f%2fwww.googleapis.com%2fauth%2fdocs.test%20https%3a%2f%2fwww.googleapis.com%2fauth%2fdrive%20https%3a%2f%2fwww.googleapis.com%2fauth%2fdrive.photos.readonly%20https%3a%2f%2fwww.googleapis.com%2fauth%2fpeopleapi.readonly\n",
      "\n",
      "Enter your authorization code:\n",
      "··········\n",
      "Mounted at /content/drive\n"
     ]
    }
   ],
   "source": [
    "#hide\n",
    "from google.colab import drive\n",
    "drive.mount('/content/drive')"
   ]
  },
  {
   "cell_type": "code",
   "execution_count": null,
   "metadata": {},
   "outputs": [],
   "source": [
    "#hide\n",
    "!pip install nbdev\n",
    "!pip install fastcore"
   ]
  },
  {
   "cell_type": "code",
   "execution_count": null,
   "metadata": {},
   "outputs": [
    {
     "name": "stdout",
     "output_type": "stream",
     "text": [
      "/content/drive/My Drive/fa_convnav\n"
     ]
    }
   ],
   "source": [
    "#hide\n",
    "% cd /content/drive/My\\ Drive/fa_convnav"
   ]
  },
  {
   "cell_type": "code",
   "execution_count": null,
   "metadata": {},
   "outputs": [],
   "source": [
    "#hide\n",
    "#not deps but we need them to use nbdev and run tests\n",
    "from nbdev import * \n",
    "from nbdev.showdoc import *\n",
    "from fastcore.test import *"
   ]
  },
  {
   "cell_type": "markdown",
   "metadata": {},
   "source": [
    "# Models\n",
    "\n",
    "> Supported models and number of named_modules()."
   ]
  },
  {
   "cell_type": "markdown",
   "metadata": {},
   "source": [
    "vgg = [ ('vgg11_bn', 44), \n",
    "        ('vgg13_bn', 50), \n",
    "        ('vgg16_bn', 59), \n",
    "        ('vgg19_bn', 68)]\n",
    "\n",
    "alexnet = [('alexnet', 28)]\n",
    "\n",
    "squeezenet = [ ('squeezenet1_0', 76), \n",
    "               ('squeezenet1_1', 76)]\n",
    "\n",
    "resnet = [ ('resnet18', 79), \n",
    "           ('resnet34', 127), \n",
    "           ('resnet50', 162), \n",
    "           ('resnet101', 298), \n",
    "           ('resnet151', 434)]\n",
    "\n",
    "densenet = [ ('densenet121', 445), \n",
    "             ('densenet161', 585), \n",
    "             ('densenet169', 613), \n",
    "             ('densenet201', 725)]\n",
    "\n",
    "xresnet = [ ('xresnet101', 541), \n",
    "            ('xresnet152', 796), \n",
    "            ('xresnet18', 131), \n",
    "            ('xresnet18_deep', 160), \n",
    "            ('xresnet18_deeper', 164), \n",
    "            ('xresnet34', 219), \n",
    "            ('xresnet34_deep', 248), \n",
    "            ('xresnet34_deeper', 274), \n",
    "            ('xresnet50', 286), \n",
    "            ('xresnet50_deep', 323), \n",
    "            ('xresnet50_deeper', 357)]"
   ]
  },
  {
   "cell_type": "code",
   "execution_count": null,
   "metadata": {},
   "outputs": [],
   "source": [
    "#export\n",
    "# Supported pretrained models (name, num layers)\n",
    "\n",
    "vgg = [ ('vgg11_bn', 44), \n",
    "        ('vgg13_bn', 50), \n",
    "        ('vgg16_bn', 59), \n",
    "        ('vgg19_bn', 68)]\n",
    "\n",
    "alexnet = [('alexnet', 28)]\n",
    "\n",
    "squeezenet = [ ('squeezenet1_0', 76), \n",
    "               ('squeezenet1_1', 76)]\n",
    "\n",
    "resnet = [ ('resnet18', 79), \n",
    "           ('resnet34', 127), \n",
    "           ('resnet50', 162), \n",
    "           ('resnet101', 298), \n",
    "           ('resnet151', 434)]\n",
    "\n",
    "densenet = [ ('densenet121', 445), \n",
    "             ('densenet161', 585), \n",
    "             ('densenet169', 613), \n",
    "             ('densenet201', 725)]\n",
    "\n",
    "xresnet = [ ('xresnet101', 541), \n",
    "            ('xresnet152', 796), \n",
    "            ('xresnet18', 131), \n",
    "            ('xresnet18_deep', 160), \n",
    "            ('xresnet18_deeper', 164), \n",
    "            ('xresnet34', 219), \n",
    "            ('xresnet34_deep', 248), \n",
    "            ('xresnet34_deeper', 274), \n",
    "            ('xresnet50', 286), \n",
    "            ('xresnet50_deep', 323), \n",
    "            ('xresnet50_deeper', 357)]\n"
   ]
  },
  {
   "cell_type": "code",
   "execution_count": null,
   "metadata": {},
   "outputs": [],
   "source": [
    "#export\n",
    "# List of dicts containing model type and list of (model name, num layer) tuples\n",
    "models = [{'vgg': vgg},   \n",
    "          {'alexnet': alexnet},\n",
    "          {'squeezenet': squeezenet},\n",
    "          {'resnet': resnet},\n",
    "          {'densenet': densenet},\n",
    "          {'xresnet': xresnet}]"
   ]
  }
 ],
 "metadata": {
  "kernelspec": {
   "display_name": "Python 3",
   "language": "python",
   "name": "python3"
  }
 },
 "nbformat": 4,
 "nbformat_minor": 0
}
