{
 "cells": [
  {
   "cell_type": "code",
   "execution_count": null,
   "metadata": {},
   "outputs": [],
   "source": [
    "# default_exp models"
   ]
  },
  {
   "cell_type": "code",
   "execution_count": null,
   "metadata": {},
   "outputs": [
    {
     "name": "stdout",
     "output_type": "stream",
     "text": [
      "Go to this URL in a browser: https://accounts.google.com/o/oauth2/auth?client_id=947318989803-6bn6qk8qdgf4n4g3pfee6491hc0brc4i.apps.googleusercontent.com&redirect_uri=urn%3aietf%3awg%3aoauth%3a2.0%3aoob&response_type=code&scope=email%20https%3a%2f%2fwww.googleapis.com%2fauth%2fdocs.test%20https%3a%2f%2fwww.googleapis.com%2fauth%2fdrive%20https%3a%2f%2fwww.googleapis.com%2fauth%2fdrive.photos.readonly%20https%3a%2f%2fwww.googleapis.com%2fauth%2fpeopleapi.readonly\n",
      "\n",
      "Enter your authorization code:\n",
      "··········\n",
      "Mounted at /content/drive\n"
     ]
    }
   ],
   "source": [
    "#hide\n",
    "from google.colab import drive\n",
    "drive.mount('/content/drive')"
   ]
  },
  {
   "cell_type": "code",
   "execution_count": null,
   "metadata": {},
   "outputs": [
    {
     "name": "stdout",
     "output_type": "stream",
     "text": [
      "Collecting nbdev\n",
      "\u001b[?25l  Downloading https://files.pythonhosted.org/packages/ce/86/e49e9f2baa3e220c09b4ca86d3403cb9094f19030f55177584de4e705bb1/nbdev-0.2.9-py3-none-any.whl (43kB)\n",
      "\r\u001b[K     |███████▋                        | 10kB 17.7MB/s eta 0:00:01\r\u001b[K     |███████████████▏                | 20kB 1.5MB/s eta 0:00:01\r\u001b[K     |██████████████████████▊         | 30kB 1.7MB/s eta 0:00:01\r\u001b[K     |██████████████████████████████▎ | 40kB 1.7MB/s eta 0:00:01\r\u001b[K     |████████████████████████████████| 51kB 1.4MB/s \n",
      "\u001b[?25hRequirement already satisfied: nbconvert in /usr/local/lib/python3.6/dist-packages (from nbdev) (5.6.1)\n",
      "Requirement already satisfied: packaging in /usr/local/lib/python3.6/dist-packages (from nbdev) (20.1)\n",
      "Collecting fastscript\n",
      "  Downloading https://files.pythonhosted.org/packages/55/0e/ecdc0213646bc82986884121109a38b50bbc2cd2c491bbbfdc7ae39228e3/fastscript-0.1.4-py3-none-any.whl\n",
      "Requirement already satisfied: nbformat>=4.4.0 in /usr/local/lib/python3.6/dist-packages (from nbdev) (5.0.4)\n",
      "Requirement already satisfied: pyyaml in /usr/local/lib/python3.6/dist-packages (from nbdev) (3.13)\n",
      "Requirement already satisfied: bleach in /usr/local/lib/python3.6/dist-packages (from nbconvert->nbdev) (3.1.0)\n",
      "Requirement already satisfied: jinja2>=2.4 in /usr/local/lib/python3.6/dist-packages (from nbconvert->nbdev) (2.11.1)\n",
      "Requirement already satisfied: traitlets>=4.2 in /usr/local/lib/python3.6/dist-packages (from nbconvert->nbdev) (4.3.3)\n",
      "Requirement already satisfied: defusedxml in /usr/local/lib/python3.6/dist-packages (from nbconvert->nbdev) (0.6.0)\n",
      "Requirement already satisfied: mistune<2,>=0.8.1 in /usr/local/lib/python3.6/dist-packages (from nbconvert->nbdev) (0.8.4)\n",
      "Requirement already satisfied: testpath in /usr/local/lib/python3.6/dist-packages (from nbconvert->nbdev) (0.4.4)\n",
      "Requirement already satisfied: pygments in /usr/local/lib/python3.6/dist-packages (from nbconvert->nbdev) (2.1.3)\n",
      "Requirement already satisfied: jupyter-core in /usr/local/lib/python3.6/dist-packages (from nbconvert->nbdev) (4.6.1)\n",
      "Requirement already satisfied: pandocfilters>=1.4.1 in /usr/local/lib/python3.6/dist-packages (from nbconvert->nbdev) (1.4.2)\n",
      "Requirement already satisfied: entrypoints>=0.2.2 in /usr/local/lib/python3.6/dist-packages (from nbconvert->nbdev) (0.3)\n",
      "Requirement already satisfied: pyparsing>=2.0.2 in /usr/local/lib/python3.6/dist-packages (from packaging->nbdev) (2.4.6)\n",
      "Requirement already satisfied: six in /usr/local/lib/python3.6/dist-packages (from packaging->nbdev) (1.12.0)\n",
      "Requirement already satisfied: jsonschema!=2.5.0,>=2.4 in /usr/local/lib/python3.6/dist-packages (from nbformat>=4.4.0->nbdev) (2.6.0)\n",
      "Requirement already satisfied: ipython-genutils in /usr/local/lib/python3.6/dist-packages (from nbformat>=4.4.0->nbdev) (0.2.0)\n",
      "Requirement already satisfied: webencodings in /usr/local/lib/python3.6/dist-packages (from bleach->nbconvert->nbdev) (0.5.1)\n",
      "Requirement already satisfied: MarkupSafe>=0.23 in /usr/local/lib/python3.6/dist-packages (from jinja2>=2.4->nbconvert->nbdev) (1.1.1)\n",
      "Requirement already satisfied: decorator in /usr/local/lib/python3.6/dist-packages (from traitlets>=4.2->nbconvert->nbdev) (4.4.1)\n",
      "Installing collected packages: fastscript, nbdev\n",
      "Successfully installed fastscript-0.1.4 nbdev-0.2.9\n",
      "Collecting fastcore\n",
      "  Downloading https://files.pythonhosted.org/packages/62/01/9cab1fdaef504edbe2e203111fd9d5d68fdc55ca06621e84851caa8ba7cf/fastcore-0.1.10-py3-none-any.whl\n",
      "Requirement already satisfied: numpy in /usr/local/lib/python3.6/dist-packages (from fastcore) (1.17.5)\n",
      "Requirement already satisfied: dataclasses>='0.7'; python_version < \"3.7\" in /usr/local/lib/python3.6/dist-packages (from fastcore) (0.7)\n",
      "Installing collected packages: fastcore\n",
      "Successfully installed fastcore-0.1.10\n"
     ]
    }
   ],
   "source": [
    "#hide\n",
    "!pip install nbdev\n",
    "!pip install fastcore"
   ]
  },
  {
   "cell_type": "code",
   "execution_count": null,
   "metadata": {},
   "outputs": [
    {
     "name": "stdout",
     "output_type": "stream",
     "text": [
      "/content/drive/My Drive/fa_convnav\n"
     ]
    }
   ],
   "source": [
    "#hide\n",
    "% cd /content/drive/My\\ Drive/fa_convnav"
   ]
  },
  {
   "cell_type": "code",
   "execution_count": null,
   "metadata": {},
   "outputs": [],
   "source": [
    "#hide\n",
    "#not deps but we need them to use nbdev and run tests\n",
    "from nbdev import * \n",
    "from nbdev.showdoc import *\n",
    "from fastcore.test import *"
   ]
  },
  {
   "cell_type": "markdown",
   "metadata": {},
   "source": [
    "# Models\n",
    "\n",
    "> Supported models."
   ]
  },
  {
   "cell_type": "code",
   "execution_count": null,
   "metadata": {},
   "outputs": [],
   "source": [
    "#export\n",
    "\n",
    "# Supported pretrained models (name, num layers)\n",
    "\n",
    "vgg = [('vgg11_bn', 44), \n",
    "        ('vgg13_bn', 50), \n",
    "        ('vgg16_bn', 59), \n",
    "        ('vgg19_bn', 68)]\n",
    "\n",
    "alexnet = [('alexnet', 28)]\n",
    "\n",
    "squeezenet = [('squeezenet1_0', 76), \n",
    "               ('squeezenet1_1',76 )]\n",
    "\n",
    "resnet = [('resnet18', 79), \n",
    "           ('resnet34', 127), \n",
    "           ('resnet50', 162), \n",
    "           ('resnet101', 298), \n",
    "           ('resnet151', 434)]\n",
    "\n",
    "densenet = [('densenet121', 445), \n",
    "             ('densenet161', 585), \n",
    "             ('densenet169', 613), \n",
    "             ('densenet201', 725)]\n",
    "\n",
    "xresnet = [('xresnet101', 541), \n",
    "            ('xresnet152', 796), \n",
    "            ('xresnet18', 131), \n",
    "            ('xresnet18_deep', 160), \n",
    "            ('xresnet18_deeper', 164), \n",
    "            ('xresnet34', 219), \n",
    "            ('xresnet34_deep', 248), \n",
    "            ('xresnet34_deeper', 274), \n",
    "            ('xresnet50', 286), \n",
    "            ('xresnet50_deep', 323), \n",
    "            ('xresnet50_deeper', 357)]\n"
   ]
  },
  {
   "cell_type": "code",
   "execution_count": null,
   "metadata": {},
   "outputs": [],
   "source": [
    "#export\n",
    "# List of dicts containing model type and list of (model name, num layer) tuples\n",
    "models = [{'vgg': vgg},   \n",
    "          {'alexnet': alexnet},\n",
    "          {'squeezenet': squeezenet},\n",
    "          {'resnet': resnet},\n",
    "          {'densenet': densenet},\n",
    "          {'xresnet': xresnet}]"
   ]
  },
  {
   "cell_type": "code",
   "execution_count": null,
   "metadata": {},
   "outputs": [],
   "source": [
    "#export\n",
    "def find_model(n=None): \n",
    "  \"Returns tuple of model type and name given number layers (n)\"\n",
    "  for d in models:\n",
    "    match = [(k, m) for k, v in d.items() for m, l in v if l == n]\n",
    "    if match != []: break\n",
    "  if len(match) > 0: return match[0] # (model_grp, model_name)\n",
    "  assert True, 'Model not supported. Type supported_models() to get a list of supported models.'"
   ]
  },
  {
   "cell_type": "code",
   "execution_count": null,
   "metadata": {},
   "outputs": [],
   "source": [
    "#export\n",
    "def supported_models(models):\n",
    "  \"Prints list of supported models from 'models' list\"\n",
    "  print('Supported models')\n",
    "  print('================\\n')\n",
    "  for d in models:\n",
    "      [[print(m) for m, l in v] for k, v in d.items()]"
   ]
  },
  {
   "cell_type": "code",
   "execution_count": null,
   "metadata": {},
   "outputs": [],
   "source": [
    "#export\n",
    "# alexnet, vgg\n",
    "def get_base_row(l):\n",
    "  \"Construct a dataframe row from the information in a singel layer(l) returned by fastai's 'model.named_modules' method\"\n",
    "\n",
    "  layer_name = l[0]\n",
    "  ln_split = str(layer_name).split('.')\n",
    "  ln_n_splits = len(ln_split)\n",
    "  div_id = ln_split[0] if ln_n_splits >0 else ''\n",
    "  mod_id = ln_split[1] if ln_n_splits >1 else ''\n",
    "  blk_id = '' \n",
    "  typ_id = ln_split[3] if ln_n_splits >3 else ''\n",
    "\n",
    "  tch_cls_str = str(type(l[1]))\n",
    "  tch_cls_substr =  tch_cls_str[tch_cls_str.find(\"<class\")+8: tch_cls_str.find(\">\")-1]\n",
    "  tch_cls = tch_cls_substr.split('.')[-1]\n",
    "\n",
    "  lyr_obj = l[1]\n",
    "  lyr_str = str(lyr_obj)\n",
    "\n",
    "  def get_div():\n",
    "    if layer_name == '0' or layer_name == '1': return tch_cls\n",
    "    return ''\n",
    "\n",
    "  def get_mod():\n",
    "    if ln_n_splits == 2: return tch_cls\n",
    "    return ''\n",
    "\n",
    "  def get_lyr():\n",
    "    return lyr_str[:90]\n",
    "\n",
    "  return {\n",
    "      'Layer_name': layer_name, \n",
    "      'Model': tch_cls if layer_name == '' else '',\n",
    "      'Division': get_div(),\n",
    "      'Module': get_mod(),\n",
    "      'Block': '', \n",
    "      'Layer': get_lyr(),\n",
    "      'Torch_class': tch_cls_substr,\n",
    "      'Output_dimensions': '',\n",
    "      'Parameters': '',\n",
    "      'Trainable': '',\n",
    "      'Currently': '',\n",
    "      'div_id': div_id,  \n",
    "      'modu_id': mod_id,  \n",
    "      'blk_id': blk_id,\n",
    "      'typ_id': typ_id,\n",
    "      'tch_cls': tch_cls,\n",
    "      'out_dim': '',\n",
    "      'current': '',\n",
    "      'lyr_blk': '', \n",
    "      'lyr_mod': '',\n",
    "      'blk_mod': '',\n",
    "      'lyr_obj': lyr_obj\n",
    "      }"
   ]
  },
  {
   "cell_type": "markdown",
   "metadata": {},
   "source": [
    "### Test func"
   ]
  },
  {
   "cell_type": "code",
   "execution_count": null,
   "metadata": {},
   "outputs": [],
   "source": [
    "#export\n",
    "def models_test(test):\n",
    "  \"Models\"\n",
    "  print(test)"
   ]
  },
  {
   "cell_type": "code",
   "execution_count": null,
   "metadata": {},
   "outputs": [
    {
     "name": "stdout",
     "output_type": "stream",
     "text": [
      "test\n"
     ]
    }
   ],
   "source": [
    "models_test('test')"
   ]
  }
 ],
 "metadata": {
  "kernelspec": {
   "display_name": "Python 3",
   "language": "python",
   "name": "python3"
  }
 },
 "nbformat": 4,
 "nbformat_minor": 0
}
