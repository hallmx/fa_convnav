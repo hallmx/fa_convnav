{
 "cells": [
  {
   "cell_type": "code",
   "execution_count": null,
   "metadata": {},
   "outputs": [],
   "source": [
    "#default_exp navigator"
   ]
  },
  {
   "cell_type": "code",
   "execution_count": null,
   "metadata": {},
   "outputs": [],
   "source": [
    "#hide\n",
    "#test_flag_colab\n",
    "from google.colab import drive\n",
    "drive.mount('/content/drive')"
   ]
  },
  {
   "cell_type": "code",
   "execution_count": null,
   "metadata": {},
   "outputs": [],
   "source": [
    "#hide\n",
    "!pip install nbdev\n",
    "!pip install fastcore"
   ]
  },
  {
   "cell_type": "code",
   "execution_count": null,
   "metadata": {},
   "outputs": [],
   "source": [
    "#hide\n",
    "%cd /content/drive/My\\ Drive/fa_convnav"
   ]
  },
  {
   "cell_type": "code",
   "execution_count": null,
   "metadata": {},
   "outputs": [],
   "source": [
    "#hide\n",
    "# not deps but we need them to use nbdev and run tests\n",
    "from nbdev import * \n",
    "from nbdev.showdoc import *\n",
    "from fastcore.test import *"
   ]
  },
  {
   "cell_type": "code",
   "execution_count": null,
   "metadata": {},
   "outputs": [],
   "source": [
    "#hide\n",
    "try:\n",
    "  import fastai2.basics\n",
    "except:\n",
    "  !pip install fastai2\n",
    "else:\n",
    "  print('fastai2 already installed')"
   ]
  },
  {
   "cell_type": "code",
   "execution_count": null,
   "metadata": {},
   "outputs": [
    {
     "data": {
      "text/html": [
       ""
      ],
      "text/plain": [
       "<IPython.core.display.HTML object>"
      ]
     },
     "metadata": {
      "tags": []
     },
     "output_type": "display_data"
    },
    {
     "name": "stderr",
     "output_type": "stream",
     "text": [
      "Downloading: \"https://download.pytorch.org/models/resnet18-5c106cde.pth\" to /root/.cache/torch/checkpoints/resnet18-5c106cde.pth\n"
     ]
    },
    {
     "data": {
      "application/vnd.jupyter.widget-view+json": {
       "model_id": "7c8b6ebc9bea46cd834dfbec2110b914",
       "version_major": 2,
       "version_minor": 0
      },
      "text/plain": [
       "HBox(children=(IntProgress(value=0, max=46827520), HTML(value='')))"
      ]
     },
     "metadata": {
      "tags": []
     },
     "output_type": "display_data"
    },
    {
     "name": "stdout",
     "output_type": "stream",
     "text": [
      "\n"
     ]
    }
   ],
   "source": [
    "#hide\n",
    "from fastai2.basics import *\n",
    "from fastai2.callback.all import *\n",
    "from fastai2.vision.all import *\n",
    "from torch import torch\n",
    "\n",
    "pets = DataBlock(blocks=(ImageBlock, CategoryBlock), \n",
    "                 get_items=get_image_files, \n",
    "                 splitter=RandomSplitter(),\n",
    "                 get_y=RegexLabeller(pat = r'/([^/]+)_\\d+.jpg$'),\n",
    "                 item_tfms=Resize(460),\n",
    "                 batch_tfms=[*aug_transforms(size=224, max_rotate=30, min_scale=0.75), Normalize.from_stats(*imagenet_stats)])\n",
    "\n",
    "dls = pets.dataloaders(untar_data(URLs.PETS)/\"images\",  bs=128)\n",
    "\n",
    "model = resnet18\n",
    "learn = cnn_learner(\n",
    "    dls, \n",
    "    model, \n",
    "    opt_func=partial(Adam, lr=slice(3e-3), wd=0.01, eps=1e-8), \n",
    "    metrics=error_rate, \n",
    "    config=cnn_config(ps=0.33)).to_fp16()"
   ]
  },
  {
   "cell_type": "code",
   "execution_count": null,
   "metadata": {},
   "outputs": [],
   "source": [
    "#hide\n",
    "import gzip\n",
    "def get_test_vars():\n",
    "  #load test_vars from file if not already downloaded\n",
    "  try:\n",
    "    test_learner\n",
    "  except:\n",
    "    with gzip.open(\"test_learner_resnet18\", \"rb\") as f:\n",
    "      test_learner = pickle.load(f)\n",
    "    with gzip.open(\"test_summary_resnet18\", \"rb\") as f:\n",
    "      test_summary = pickle.load(f)\n",
    "  try:\n",
    "    test_df\n",
    "  except:\n",
    "    with gzip.open(\"test_df_resnet18\", \"rb\") as f:\n",
    "      test_df = pickle.load(f)\n",
    "  return test_learner, test_summary, test_df"
   ]
  },
  {
   "cell_type": "markdown",
   "metadata": {},
   "source": [
    "# Navigator\n",
    "\n",
    "> CNN viewer and navigator"
   ]
  },
  {
   "cell_type": "code",
   "execution_count": null,
   "metadata": {},
   "outputs": [],
   "source": [
    "#export\n",
    "import pickle\n",
    "from fa_convnav.models import models\n",
    "from fa_convnav.core import *\n",
    "from pandas import DataFrame, option_context, concat\n",
    "from math import ceil"
   ]
  },
  {
   "cell_type": "code",
   "execution_count": null,
   "metadata": {},
   "outputs": [],
   "source": [
    "#export\n",
    "def convnav_supported_models():\n",
    "  \"Prints list of transfer learning models supported by fa_convnav\"\n",
    "  supported_models()"
   ]
  },
  {
   "cell_type": "code",
   "execution_count": null,
   "metadata": {},
   "outputs": [],
   "source": [
    "#export\n",
    "def cndf_view(df, verbose=3, truncate=0, tight=True, align_cols='left', top=False):\n",
    "    \"Display a valid CNDF dataframe `df` with optional arguments and styling\"\n",
    "\n",
    "    def check_view_args(df, verbose, truncate):\n",
    "      assert type(df) == DataFrame and 'Module_name' in df.columns, \"Not a valid convnav dataframe\"\n",
    "      assert isinstance(truncate, int) and -10 <= truncate <= 10, f\"Argument 'truncate' must be an integer between -10 (show more cols) and +10 (show fewer cols)\"\n",
    "      assert isinstance(verbose, int) and 1 <= verbose <= 5, f\"Argument verbose must be 1 2 or 3 \"\n",
    "\n",
    "    def display_df(df, verbose, truncate, tight, align_cols):\n",
    "      with option_context(\"display.max_rows\", 1000):\n",
    "        df.index.name = 'Index' \n",
    "        df_styled = df.iloc[:,:-(11+truncate)].style.set_properties(**{'text-align': align_cols})\n",
    "        if tight: \n",
    "          display(df_styled)\n",
    "        else:\n",
    "          display(df.iloc[:,:-(11+truncate)]) \n",
    "\n",
    "    #handle arguments\n",
    "    check_view_args(df, verbose, truncate)\n",
    "    if not isinstance(tight, bool): tight = True\n",
    "    if len(df) < 10: tight = False\n",
    "    if verbose != 3: truncate = (10, 4, 0, 0, -10)[verbose-1]\n",
    "    if verbose == 4: df = add_container_row_info(df)\n",
    "\n",
    "    #display df\n",
    "    if top and len(df) > 10:\n",
    "      display_df(df.iloc[:10], verbose, truncate, False, align_cols)\n",
    "      print(f'...{len(df)-10} more layers')\n",
    "    elif len(df) > 0: \n",
    "      display_df(df, verbose, truncate, tight, align_cols)\n",
    "    else:\n",
    "      print('No data to display')\n",
    "    return None"
   ]
  },
  {
   "cell_type": "markdown",
   "metadata": {},
   "source": [
    "\n",
    "*   `verbose`: 1 = Index and Layer_name columns only; 2 = Model structure; 3 = Model Structure and layer_info (output dims, params and frozen/unfrozen);  4 = include layer_info and block/layer counts in container rows; 5 = expose hidden columns.\n",
    "*   `tight`: True = tight layout with minimal space between rows (best for large models with many rows to display). False = display dataframe with normal row spacing. The default is True but less than 10 rows are automatically displayed with normal spacing.\n",
    "*   `truncate`: truncate number displayed columns by integer value between -10 and 10. 0 = default. Negative values reveal hidden columns. Overidden when the verbose argument is set to a non-default setting.\n",
    "*   `align_cols`: 'left' or 'right' alignment of column data\n",
    "*   `top`: display first 10 rows only followed by a count of undisplayed rows \n"
   ]
  },
  {
   "cell_type": "code",
   "execution_count": null,
   "metadata": {},
   "outputs": [],
   "source": [
    "#export\n",
    "def add_container_row_info(df):\n",
    "    \"Add output dimensions and block/layer counts to container rows of `df`. These are not added when a CNDF dataframe is first built to avoid cluttering the display of larger dataframes.\"\n",
    "    df.loc[df['Division'] == '', 'Division'] = df['div_id']\n",
    "    df.loc[df['Container_child'] == '', 'Container_child'] = df['chd_id']\n",
    "    df.loc[df['Container_block'] == '', 'Container_block'] = df['blk_id']\n",
    "    df.loc[df['Output_dimensions'] == '', 'Output_dimensions'] = df['out_dim']\n",
    "    df.loc[df['Currently'] == '', 'Currently'] = df['current']\n",
    "    return df"
   ]
  },
  {
   "cell_type": "code",
   "execution_count": null,
   "metadata": {},
   "outputs": [],
   "source": [
    "#export\n",
    "def cndf_search(df, searchterm, exact=True, show=True):\n",
    "  \"Search a CNDF dataframe, display the results in a dataframe and return matching module object(s)\"\n",
    "\n",
    "  def match(df, searchterm, exact):\n",
    "    \"Searches `df` for `searchterm`, returning exact matches only if `exact=True` otherwise any match\"\n",
    "\n",
    "    #select 'df' row using index from 'searchterm'\n",
    "    if isinstance(searchterm, int):\n",
    "      assert searchterm >= 0 and searchterm <= len(df), f'Layer ID out of range: min 0, max {len(df)}'\n",
    "      x = df.iloc[searchterm].copy()\n",
    "      x = DataFrame(x).transpose()\n",
    "      return x    \n",
    "      \n",
    "    #if searchterm is a float assume it is a layer name (i.e. format 0.0.1) and convert to string\n",
    "    if isinstance(searchterm, float): searchterm = str(searchterm)\n",
    "\n",
    "    #select rows matching the conditional df[key] ==/contains value (exact=True/false) for dict\n",
    "    if isinstance(searchterm, dict):\n",
    "      \n",
    "      for col, s in searchterm.items():\n",
    "        assert col in df.columns, f'{col} not a valid column identifier. Valid column names are {df.columns}'\n",
    "        return df[df[col] == s].copy() if exact else df[df[col].str.contains(s)].copy()\n",
    "      return x\n",
    "\n",
    "    #select rows in df where df[col] ==/contains searchterm string (exact=True/False) \n",
    "    if isinstance(searchterm, str):\n",
    "      searchterm = searchterm.strip(' \\.')\n",
    "      cols = {'Module_name', 'Torch_class', 'Division', 'Container_child', 'Container_block', 'Layer_description'}\n",
    "      if exact: \n",
    "        for col in cols:\n",
    "          x = df[df[col] == searchterm].copy()\n",
    "          if not x.empty: return x\n",
    "      else: \n",
    "        for col in cols:\n",
    "          x = df[df[col].str.contains(searchterm)].copy()\n",
    "          if not x.empty: return x\n",
    "      return x\n",
    "         \n",
    "    assert True, 'Unrecognizable searchterm'\n",
    "        \n",
    "  def process_searchterm(df, searchterm, exact): \n",
    "    \"Search 'df` for single or combination of modules and layers. If df = None, searches instance dataframe `self._cndf` (default)\"\n",
    "\n",
    "    #if searchterm is a `float` assume it is a layer name (i.e. format 0.0.1) and convert to `string`\n",
    "    if isinstance(searchterm, float): searchterm = str(searchterm)\n",
    "\n",
    "    if isinstance(searchterm, int): \n",
    "      return match(df, searchterm, True)\n",
    "    elif isinstance(searchterm, str): \n",
    "      return match(df, searchterm, exact)\n",
    "    #concatenate successive search results (logical 'OR') for series of dicts\n",
    "    elif isinstance(searchterm, dict):\n",
    "      _df = DataFrame()  \n",
    "      for col, s in searchterm.items():\n",
    "        new_df = match(df, {col:s}, exact)\n",
    "        _df = concat((_df, new_df), axis=0, ignore_index=False).drop_duplicates('Module_name')\n",
    "      return _df\n",
    "    #concatenate successive search results (logical 'OR') in list\n",
    "    elif isinstance(searchterm, list):\n",
    "      _df = DataFrame()  \n",
    "      for s in searchterm: \n",
    "        new_df = match(df, s, exact)\n",
    "        _df = concat((_df, new_df), axis=0, ignore_index=False).drop_duplicates('Module_name')\n",
    "      return _df\n",
    "    #recursively call match on _df to logical 'AND' successive search results in tuple\n",
    "    elif isinstance(searchterm, tuple):\n",
    "      _df = df.copy()\n",
    "      for s in searchterm:\n",
    "        _df = match(_df, s, exact)\n",
    "      return _df\n",
    "    else: \n",
    "      assert True, 'Unrecognizable searchterm'\n",
    "\n",
    "  #get search results\n",
    "  df_res = process_searchterm(df, searchterm, exact)\n",
    "\n",
    "  #show matches and return corresponding modules\n",
    "  if df_res is not None and not df_res.empty:\n",
    "    if show:\n",
    "      print(f'{len(df_res)} layers found matching searchterm(s): {searchterm}\\n')\n",
    "      cndf_view(df=df_res)\n",
    "    return df_res['lyr_obj'].tolist()\n",
    "  else: \n",
    "    if show: print(f'No matches for searchterm(s): {searchterm}\\n')\n",
    "    return None"
   ]
  },
  {
   "cell_type": "markdown",
   "metadata": {},
   "source": [
    "`Searchterm` can be:\n",
    "\n",
    "*   `int` : the module with Index number `int` is returned\n",
    "*   `float`: module(s) where `str(float)` matches the Layer_name are returned\n",
    "*   `str`: module(s) with `str` in one of 'Layer_name', 'Torch_class', 'Division', 'Module', 'Block', 'Layer_description' are returned. Columns are searched in this order with the search ending with the first column to make a match/matches. \n",
    "*   `dict`, e.g. {'col', 'str'} matches `str` in column `col` \n",
    "\n",
    "Searchterms can also be a combined as follows:\n",
    "\n",
    "*   `[101, 102, 105]` logical OR of rows matching indexes `101`, `102` plus `103`\n",
    "*   `('0.5', 'conv2d')` logical AND of rows matching `0.5` in Layer_name and `conv2d` in `Layer_description`\n",
    "*   `{{'col1', 'str1'}, {'col2', 'str2'}}` logical OR of matches `str1` in `col1` plus `str2` in `col`'.\n",
    "\n",
    "Return only exact matches between searchterm and column entry with exact = True (default).\n",
    "<br />\n",
    "\n"
   ]
  },
  {
   "cell_type": "markdown",
   "metadata": {},
   "source": [
    "."
   ]
  },
  {
   "cell_type": "code",
   "execution_count": null,
   "metadata": {},
   "outputs": [],
   "source": [
    "%%capture\n",
    "_, _, test_df = get_test_vars()\n",
    "test_df['lyr_obj'] = None\n",
    "\n",
    "test_eq(len(cndf_search(test_df, 12, )), 1)\n",
    "test_eq(len(cndf_search(test_df, '0.6.1.conv2')), 1)\n",
    "test_eq(len(cndf_search(test_df, 0.6, exact=False)), 16)\n",
    "test_eq(len(cndf_search(test_df, {'Module_name': '0.6', 'Layer_description':'Conv2d'}, exact=True)), 1)\n",
    "test_eq(len(cndf_search(test_df, ['0.6', '0.5'], exact=False)), 32)\n",
    "test_eq(cndf_search(test_df, ('0.6', '0.5'), exact=False), None)"
   ]
  },
  {
   "cell_type": "code",
   "execution_count": null,
   "metadata": {},
   "outputs": [],
   "source": [
    "#export\n",
    "class ConvNav(CNDF):\n",
    "  \"Builds a CNDF dataframe representation of a CNN model from a fastai `Learner` object and `Learner.summary()`. \\\n",
    "  Provides methods to view, search and select model layers and modules for further investigation.\"\n",
    "\n",
    "  def __init__(self, learner, learner_summary):\n",
    "    super().__init__(learner, learner_summary)\n",
    "\n",
    "  def __len__(self):\n",
    "    return len(self._cndf)\n",
    "\n",
    "  def __str__(self) -> str:\n",
    "    return self.model_info\n",
    "\n",
    "  def __call__(self):\n",
    "    self.view(top=True)\n",
    "\n",
    "  def __contains__(self, s):\n",
    "    return self.search(s)\n",
    "\n",
    "  def search(self, searchterm, **kwargs):\n",
    "    \"Find `searchterm` in instance dataframe, display the results and return matching module object(s). See `cndf_search()` for kwargs.\"\n",
    "    return cndf_search(self._cndf, searchterm, **kwargs)\n",
    "\n",
    "  def view(self, **kwargs):\n",
    "    \"Display instance CNDF dataframe with optional arguments and styling (see `cndf_view()` for kwargs)\"\n",
    "    print(f'{self.model_info}\\n')\n",
    "    cndf_view(self._cndf, **kwargs)\n",
    "\n",
    "  def _view(self, df, add_info=False, **kwargs):\n",
    "    \"Add output dimensions and block/layer counts to Container rows of `df` then display `df`\"\n",
    "    _df = df.copy()\n",
    "    if add_info: \n",
    "      _df = add_container_row_info(_df)\n",
    "    cndf_view(_df, **kwargs)\n",
    "\n",
    "  @property\n",
    "  def head(self):\n",
    "    \"View module of model head\"\n",
    "    df = self._cndf.copy()\n",
    "    df = df[df['Module_name'].str.startswith('1')]\n",
    "    if not df.empty:\n",
    "      res = f\"{self.model_type.capitalize()}: {self.model_name.capitalize()}\\n\"\n",
    "      res += f\"Input shape: {self._cndf.iloc[1]['out_dim']} (bs, filt, h, w)\\n\"\n",
    "      res += f\"Output features: {self.output_dimensions} (bs, classes)\\n\" \n",
    "      print(res)\n",
    "      self._view(df, truncate=1)\n",
    "    else:\n",
    "      res = \"Model has no head\"\n",
    "      print(res)\n",
    "\n",
    "\n",
    "  @property\n",
    "  def body(self):\n",
    "    \"View modules of model body\"\n",
    "    df = self._cndf.copy()\n",
    "    df = df.loc[df['Module_name'].str.startswith('0')]\n",
    "    if not df.empty:\n",
    "      res = f\"{self.model_type.capitalize()}: {self.model_name.capitalize()}\\n\"\n",
    "      res += f\"Input shape: {self.input_sizes} (bs, ch, h, w)\\n\"\n",
    "      res += f\"Output dimensions: {df.iloc[-1]['Output_dimensions']} (bs, filt, h, w)\\n\"\n",
    "      res += f\"Currently frozen to parameter group {self.frozen_to} out of {self.num_param_groups}\\n\" \n",
    "      print(res)\n",
    "      self._view(df)\n",
    "    else:\n",
    "      res = \"Model body has no contents\"\n",
    "      print(res)\n",
    "\n",
    "\n",
    "  @property\n",
    "  def divs(self):\n",
    "    \"Summary info for model head and body\"\n",
    "    df = self._cndf.copy()\n",
    "    df = df.loc[(df['Module_name'] == '0') | (df['Module_name'] == '1')]\n",
    "\n",
    "    for i in range(2):\n",
    "      df_div = self._cndf.loc[self._cndf['div_id'] == str(i)].copy()\n",
    "      df.iloc[i]['Model'] = self.model_name\n",
    "      df.iloc[i]['Container_child'] = len(df_div[df_div['Container_child'] != ''])\n",
    "      df.iloc[i]['Container_block'] = len(df_div[df_div['Container_block'] != ''])\n",
    "      df.iloc[i]['Layer_description'] = len(df_div[df_div['Layer_description'] != ''])\n",
    "      params = df_div['Parameters'].values\n",
    "      params_int = [int(x.replace(',','')) for x in params if x != '']\n",
    "      params_summed = sum(params_int)\n",
    "      df.iloc[i]['Parameters'] = params_summed\n",
    "\n",
    "    df['Output_dimensions'] = df['out_dim']\n",
    "    df.iloc[0]['Currently'] = df.iloc[0]['current']\n",
    "\n",
    "    df = df.rename(columns={'Container_child': 'Container_child (num)', 'Container_block': 'Container_block (num)', 'Layer_description': 'Layers'})\n",
    "    res = f\"{self.model_type.capitalize()}: {self.model_name.capitalize()}\\n\"\n",
    "    res += f\"Input shape: [{self.inp_sz}] (bs, ch, h, w)\\n\"\n",
    "    res += f\"Divisions:  body (0), head (1)\\n\"\n",
    "    print(res)\n",
    "    self._view(df)\n",
    "\n",
    "\n",
    "  @property\n",
    "  def dim_transitions(self):\n",
    "    \"Finds layers with different input and output dimensions. These are useful points to apply hooks and callbacks for investigating model activity.\"\n",
    "    df = self._cndf.copy()\n",
    "    df = df[df['Torch_class'].str.contains('Conv2d')]\n",
    "\n",
    "    n = []\n",
    "    old_dims = 0\n",
    "    for i, row in enumerate(df.iterrows()):\n",
    "      row=row[1]\n",
    "      new_dims = row['Output_dimensions'].rstrip(']').split(' x ')[-1]\n",
    "      if new_dims != old_dims:\n",
    "        n.append(i)\n",
    "        old_dims = new_dims\n",
    "    df = df.iloc[n]\n",
    "\n",
    "    print(f\"{self.model_name.capitalize()}\\nLayer dimension changes\\n\")\n",
    "    self._view(df, add_info=True)\n",
    "    return df['lyr_obj'].tolist()\n",
    "\n",
    "\n",
    "  @property\n",
    "  def linear_layers(self):\n",
    "    \"Displays and returns all linear layers in the `model`\"\n",
    "    df = self._cndf.copy()\n",
    "    df = df[df['Torch_class'].str.contains('Linear')]\n",
    "    df['Division'] = df['div_id']\n",
    "\n",
    "    print(f\"{self.model_name.capitalize()} linear layers\\n\")\n",
    "    self._view(df, truncate=1, tight=False)\n",
    "    return df['lyr_obj'].tolist()\n",
    "\n",
    "\n",
    "  def frozen_vs_unfrozen(self, col, req):\n",
    "    \"Displays and returns all frozen vs unfrozen modules and layers\"\n",
    "    df = self._cndf.copy()\n",
    "    df = df.loc[df['div_id'] == '0']\n",
    "    col = col.lower()\n",
    "    req_substr = req[req.find(' ')+1:].capitalize()\n",
    "\n",
    "    if col == 'layer':\n",
    "      df = df[df['Currently'] == req_substr]\n",
    "    elif col == 'block':\n",
    "      df = df.loc[(df['Container_block'] != '') & (df['current'] == req_substr)]\n",
    "    else:\n",
    "      df = df.loc[(df['Container_child'] != '') & (df['current'] == req_substr)]\n",
    "\n",
    "    if req == 'Last frozen': df=df.iloc[-1:, :]\n",
    "    if req == 'First unfrozen': df=df.iloc[:1, :]\n",
    "\n",
    "    print(f\"{self.model_name}\\n{req} {col}(s): \")\n",
    "    self._view(df, add_info=True)\n",
    "    return df['lyr_obj'].tolist()\n",
    "\n",
    "  def frozen(self, col='child'):\n",
    "    \"Displays and returns all frozen child container (`col='child'`), block container (`col='block'`) or layers (`col='layer'`).\"\n",
    "    return self.frozen_vs_unfrozen(col, 'All frozen')\n",
    "\n",
    "  def unfrozen(self, col='child'):\n",
    "    \"Displays and returns all unfrozen child container (`col='child'`), block container (`col='block'`) or layers (`col='layer'`).\"\n",
    "    return self.frozen_vs_unfrozen(col, 'All unfrozen')\n",
    "\n",
    "  def last_frozen(self, col='child'):\n",
    "    \"Displays and returns the last frozen child container (`col='child'`), block container (`col='block'`) or layer (`col='layer'`).\"\n",
    "    return self.frozen_vs_unfrozen(col, 'Last frozen')\n",
    "\n",
    "  def first_unfrozen(self, col='child'):\n",
    "    \"Displays and returns the first unfrozen child container (`col='child'`), block container (`col='block'`) or layer (`col='layer'`).\"\n",
    "    return self.frozen_vs_unfrozen(col, 'First unfrozen')\n",
    "\n",
    "\n",
    "  def structs(self, col):\n",
    "    \"Display container elements of model body\"\n",
    "    df = self._cndf.copy()\n",
    "    df = df.loc[df['div_id'] == '0']\n",
    "    df = df[df[col] != '']\n",
    "\n",
    "    df = add_container_row_info(df)\n",
    "\n",
    "    if col == 'Container_block':\n",
    "      df['Layer_description'] = df['lyr_blk']\n",
    "      df.rename(columns={'Layer_description': 'Num_layers'}, inplace=True)\n",
    "\n",
    "    if col == 'Container_child':\n",
    "      df['Container_block'] = df['blk_chd']\n",
    "      df.rename(columns={'Container_block': 'Num_blocks'}, inplace=True)\n",
    "      df.loc[df['Layer_description'] == '', 'Layer_description'] = df['lyr_chd']\n",
    "      df.rename(columns={'Layer_description': 'Layer_description (or num layers if > 1)'}, inplace=True)\n",
    "      \n",
    "    print(f\"{self.model_name}\\n{'Blocks' if col == 'Container_block' else 'Children'} \")\n",
    "    self._view(df, tight=False)\n",
    "    return df['lyr_obj'].tolist()\n",
    "\n",
    "  @property\n",
    "  def children(self):\n",
    "    \"Display and return child container modules (equivelent to fastai `Learner.model.children()`)\"\n",
    "    return self.structs('Container_child')\n",
    "\n",
    "  @property\n",
    "  def blocks(self):\n",
    "    \"Display and return block container modules\"\n",
    "    return self.structs('Container_block')\n",
    "\n",
    "\n",
    "  def find_conv(self, req='all', num=1, in_main=False):\n",
    "    \"Finds the first (`req=First`) or last (`req=last`) `num` Conv2d layers in the model body. Set `in_main=True` to return conv layers from the main body of the model only.\"\n",
    "\n",
    "    valid_reqs = ['all', 'first', 'last']\n",
    "    assert req.lower() in valid_reqs, f'Invalid request: req must be one of {valid_reqs}'\n",
    "\n",
    "    df = self._cndf.copy()\n",
    "    df = df[df['tch_cls'] == 'Conv2d']\n",
    "    assert isinstance(num, int) and num > 0, f'Number must be a positive integer'\n",
    "    if num >= len(df): num = len(df)-1 \n",
    "\n",
    "    if in_main:\n",
    "      df = df.iloc[1:]\n",
    "\n",
    "    if req == 'first':\n",
    "      df = df.iloc[:num,:]\n",
    "    elif req == 'last':\n",
    "      df = df.iloc[num*-1:,:]\n",
    "    else: pass\n",
    "\n",
    "    print(f\"{self.model_name}\\n{req.capitalize()} {'' if req=='all' else num} Conv2d layers\\n\")\n",
    "    self._view(df, tight=False)\n",
    "    return df['lyr_obj'].tolist()\n",
    "\n",
    "\n",
    "  def find_block(self, b, layers=True, layers_only=False):\n",
    "    \"Finds, displays and returns container blocks by module name `b`\"\n",
    "\n",
    "    #strip preceeding '0.'s from module name so search starts from same point in all models\n",
    "    while b.startswith('0') or b.startswith('.'):\n",
    "      b = str(b).strip('0\\.')\n",
    "    b = b.split('.')\n",
    "    assert len(b) == 2, \"Module name does not specify a block element: try something like '6.1' or '0.6.1'\"\n",
    "    \n",
    "    df = self._cndf.copy()\n",
    "    df = df[(df['chd_id'] == b[0]) & (df['blk_id'] == b[1])]\n",
    "\n",
    "    if not layers:\n",
    "      df = df[df['Layer_description'] == '']\n",
    "      df['Layer'] = df['lyr_blk']\n",
    "      df.rename(columns={'Layer_description': 'Num_layers'}, inplace=True)\n",
    "      layers_only = False\n",
    "\n",
    "    if layers_only: \n",
    "      df = df[df['Layer_description'] != '']\n",
    "\n",
    "    print(f\"{self.model_name}\\nBlock 0.{b[0]}.{b[1]}\\n\")\n",
    "    self._view(df, add_info=True)\n",
    "    return df['lyr_obj'].tolist()\n",
    "\n",
    "\n",
    "  def spread(self, req='conv', num=5):\n",
    "    \"Returns `num` of equally spaced `req` elements over the model. `req` = 'conv', 'block', or 'child'\"\n",
    "\n",
    "    valid_reqs = ['Child', 'Block', 'Layer', 'Conv2d', 'Conv2D', 'Conv']\n",
    "    req = req.capitalize()\n",
    "    assert req in valid_reqs, f'Invalid request: req must be one of {valid_reqs}'\n",
    "    assert isinstance(num, int), 'Number must be an integer' \n",
    "    num = max(3, num)\n",
    "\n",
    "    df = self._cndf.copy()\n",
    "    df = df[df['div_id'] == '0'][1:]\n",
    "\n",
    "    if 'Child' in req:\n",
    "      df = df[df['Container_child'] == 'Sequential']\n",
    "    elif req == 'Block':\n",
    "      df = df[df['Container_block'] != '']\n",
    "    else: \n",
    "      df = df[df['tch_cls'] == 'Conv2d']\n",
    "\n",
    "    num = min(len(df), num)\n",
    "\n",
    "    df = add_container_row_info(df)\n",
    "\n",
    "    if len(df) > num: \n",
    "      n = list(range(0, len(df), (ceil(len(df)/num))))\n",
    "      n.pop()\n",
    "      n.append(len(df)-1)\n",
    "      df = df.iloc[n]\n",
    "\n",
    "    if  req == 'Child' or req == 'Block':\n",
    "      df['Layer_description'] = df['lyr_blk']\n",
    "      df.rename(columns={'Layer_description': 'Num_layers'}, inplace=True)\n",
    "\n",
    "    if req == 'Child':\n",
    "      df['Container_block'] = df['blk_chd']\n",
    "      df.rename(columns={'Container_block': 'Num_blocks'}, inplace=True)\n",
    "      df['Num_layers'] = df['lyr_mod']\n",
    "\n",
    "    print(f\"{self.model_name}\\nSpread of {req.lower()} where n = {num}\\n\")\n",
    "    self._view(df)\n",
    "    return df['lyr_obj'].tolist()\n",
    "      "
   ]
  },
  {
   "cell_type": "markdown",
   "metadata": {},
   "source": [
    "Fastai2 Learner objects are created from a dataloader, model and optimizer as decribed in the fastai documentation https://dev.fast.ai/ (also `03_examples00.ipynb` and `04_examples01.ipynb`). Run `convnav_supported_models()` from a notebook cell to see the list of supported models."
   ]
  },
  {
   "cell_type": "markdown",
   "metadata": {},
   "source": [
    "\n",
    "```\n",
    "cn = ConvNav(Learner, Learner.summary()\n",
    "```"
   ]
  },
  {
   "cell_type": "code",
   "execution_count": null,
   "metadata": {},
   "outputs": [],
   "source": [
    "test_learner, test_summary, _ = get_test_vars()\n",
    "cn_test = ConvNav(test_learner, test_summary)\n",
    "\n",
    "test_eq(type(cn_test._cndf), DataFrame) \n",
    "test_eq(len(cn_test._cndf), 79)             # rows\n",
    "test_eq(len(cn_test._cndf.columns), 22)     # columns   "
   ]
  },
  {
   "cell_type": "markdown",
   "metadata": {},
   "source": [
    "\n",
    "###Search and view the CNDF dataframe."
   ]
  },
  {
   "cell_type": "code",
   "execution_count": null,
   "metadata": {},
   "outputs": [
    {
     "data": {
      "text/markdown": "<h4 id=\"ConvNav.search\" class=\"doc_header\"><code>ConvNav.search</code><a href=\"__main__.py#L19\" class=\"source_link\" style=\"float:right\">[source]</a></h4>\n\n> <code>ConvNav.search</code>(**`searchterm`**, **\\*\\*`kwargs`**)\n\nFind `searchterm` in instance dataframe, display the results and return matching module object(s). See `cndf_search()` for kwargs.",
      "text/plain": [
       "<IPython.core.display.Markdown object>"
      ]
     },
     "metadata": {
      "tags": []
     },
     "output_type": "display_data"
    }
   ],
   "source": [
    "show_doc(ConvNav.search)"
   ]
  },
  {
   "cell_type": "code",
   "execution_count": null,
   "metadata": {},
   "outputs": [
    {
     "data": {
      "text/markdown": "<h4 id=\"ConvNav.view\" class=\"doc_header\"><code>ConvNav.view</code><a href=\"__main__.py#L23\" class=\"source_link\" style=\"float:right\">[source]</a></h4>\n\n> <code>ConvNav.view</code>(**\\*\\*`kwargs`**)\n\nDisplay instance CNDF dataframe with optional arguments and styling (see `cndf_view()` for kwargs)",
      "text/plain": [
       "<IPython.core.display.Markdown object>"
      ]
     },
     "metadata": {
      "tags": []
     },
     "output_type": "display_data"
    }
   ],
   "source": [
    "show_doc(ConvNav.view)"
   ]
  },
  {
   "cell_type": "markdown",
   "metadata": {},
   "source": [
    "### Additional methods:"
   ]
  },
  {
   "cell_type": "code",
   "execution_count": null,
   "metadata": {},
   "outputs": [
    {
     "data": {
      "text/markdown": "<h4 id=\"ConvNav.head\" class=\"doc_header\"><code>ConvNav.head</code><a href=\"\" class=\"source_link\" style=\"float:right\">[source]</a></h4>\n\nView module of model head",
      "text/plain": [
       "<IPython.core.display.Markdown object>"
      ]
     },
     "metadata": {
      "tags": []
     },
     "output_type": "display_data"
    }
   ],
   "source": [
    "show_doc(ConvNav.head)"
   ]
  },
  {
   "cell_type": "code",
   "execution_count": null,
   "metadata": {},
   "outputs": [
    {
     "data": {
      "text/markdown": "<h4 id=\"ConvNav.body\" class=\"doc_header\"><code>ConvNav.body</code><a href=\"\" class=\"source_link\" style=\"float:right\">[source]</a></h4>\n\nView modules of model body",
      "text/plain": [
       "<IPython.core.display.Markdown object>"
      ]
     },
     "metadata": {
      "tags": []
     },
     "output_type": "display_data"
    }
   ],
   "source": [
    "show_doc(ConvNav.body)"
   ]
  },
  {
   "cell_type": "code",
   "execution_count": null,
   "metadata": {},
   "outputs": [
    {
     "data": {
      "text/markdown": "<h4 id=\"ConvNav.divs\" class=\"doc_header\"><code>ConvNav.divs</code><a href=\"\" class=\"source_link\" style=\"float:right\">[source]</a></h4>\n\nSummary info for model head and body",
      "text/plain": [
       "<IPython.core.display.Markdown object>"
      ]
     },
     "metadata": {
      "tags": []
     },
     "output_type": "display_data"
    }
   ],
   "source": [
    "show_doc(ConvNav.divs)"
   ]
  },
  {
   "cell_type": "code",
   "execution_count": null,
   "metadata": {},
   "outputs": [
    {
     "data": {
      "text/markdown": "<h4 id=\"ConvNav.dim_transitions\" class=\"doc_header\"><code>ConvNav.dim_transitions</code><a href=\"\" class=\"source_link\" style=\"float:right\">[source]</a></h4>\n\nFinds layers with different input and output dimensions. These are useful points to apply hooks and callbacks for investigating model activity.",
      "text/plain": [
       "<IPython.core.display.Markdown object>"
      ]
     },
     "metadata": {
      "tags": []
     },
     "output_type": "display_data"
    }
   ],
   "source": [
    "show_doc(ConvNav.dim_transitions)"
   ]
  },
  {
   "cell_type": "code",
   "execution_count": null,
   "metadata": {},
   "outputs": [
    {
     "data": {
      "text/markdown": "<h4 id=\"ConvNav.linear_layers\" class=\"doc_header\"><code>ConvNav.linear_layers</code><a href=\"\" class=\"source_link\" style=\"float:right\">[source]</a></h4>\n\nDisplays and returns all linear layers in the `model`",
      "text/plain": [
       "<IPython.core.display.Markdown object>"
      ]
     },
     "metadata": {
      "tags": []
     },
     "output_type": "display_data"
    }
   ],
   "source": [
    "show_doc(ConvNav.linear_layers)"
   ]
  },
  {
   "cell_type": "code",
   "execution_count": null,
   "metadata": {},
   "outputs": [
    {
     "data": {
      "text/markdown": "<h4 id=\"ConvNav.frozen\" class=\"doc_header\"><code>ConvNav.frozen</code><a href=\"__main__.py#L150\" class=\"source_link\" style=\"float:right\">[source]</a></h4>\n\n> <code>ConvNav.frozen</code>(**`col`**=*`'child'`*)\n\nDisplays and returns all frozen child container (`col='child'`), block container (`col='block'`) or layers (`col='layer'`).",
      "text/plain": [
       "<IPython.core.display.Markdown object>"
      ]
     },
     "metadata": {
      "tags": []
     },
     "output_type": "display_data"
    }
   ],
   "source": [
    "show_doc(ConvNav.frozen)"
   ]
  },
  {
   "cell_type": "code",
   "execution_count": null,
   "metadata": {},
   "outputs": [
    {
     "data": {
      "text/markdown": "<h4 id=\"ConvNav.unfrozen\" class=\"doc_header\"><code>ConvNav.unfrozen</code><a href=\"__main__.py#L154\" class=\"source_link\" style=\"float:right\">[source]</a></h4>\n\n> <code>ConvNav.unfrozen</code>(**`col`**=*`'child'`*)\n\nDisplays and returns all unfrozen child container (`col='child'`), block container (`col='block'`) or layers (`col='layer'`).",
      "text/plain": [
       "<IPython.core.display.Markdown object>"
      ]
     },
     "metadata": {
      "tags": []
     },
     "output_type": "display_data"
    }
   ],
   "source": [
    "show_doc(ConvNav.unfrozen)"
   ]
  },
  {
   "cell_type": "code",
   "execution_count": null,
   "metadata": {},
   "outputs": [
    {
     "data": {
      "text/markdown": "<h4 id=\"ConvNav.last_frozen\" class=\"doc_header\"><code>ConvNav.last_frozen</code><a href=\"__main__.py#L158\" class=\"source_link\" style=\"float:right\">[source]</a></h4>\n\n> <code>ConvNav.last_frozen</code>(**`col`**=*`'child'`*)\n\nDisplays and returns the last frozen child container (`col='child'`), block container (`col='block'`) or layer (`col='layer'`).",
      "text/plain": [
       "<IPython.core.display.Markdown object>"
      ]
     },
     "metadata": {
      "tags": []
     },
     "output_type": "display_data"
    }
   ],
   "source": [
    "show_doc(ConvNav.last_frozen)"
   ]
  },
  {
   "cell_type": "code",
   "execution_count": null,
   "metadata": {},
   "outputs": [
    {
     "data": {
      "text/markdown": "<h4 id=\"ConvNav.first_unfrozen\" class=\"doc_header\"><code>ConvNav.first_unfrozen</code><a href=\"__main__.py#L162\" class=\"source_link\" style=\"float:right\">[source]</a></h4>\n\n> <code>ConvNav.first_unfrozen</code>(**`col`**=*`'child'`*)\n\nDisplays and returns the first unfrozen child container (`col='child'`), block container (`col='block'`) or layer (`col='layer'`).",
      "text/plain": [
       "<IPython.core.display.Markdown object>"
      ]
     },
     "metadata": {
      "tags": []
     },
     "output_type": "display_data"
    }
   ],
   "source": [
    "show_doc(ConvNav.first_unfrozen)"
   ]
  },
  {
   "cell_type": "code",
   "execution_count": null,
   "metadata": {},
   "outputs": [
    {
     "data": {
      "text/markdown": "<h4 id=\"ConvNav.children\" class=\"doc_header\"><code>ConvNav.children</code><a href=\"\" class=\"source_link\" style=\"float:right\">[source]</a></h4>\n\nDisplay and return child container modules (equivelent to fastai `Learner.model.children()`)",
      "text/plain": [
       "<IPython.core.display.Markdown object>"
      ]
     },
     "metadata": {
      "tags": []
     },
     "output_type": "display_data"
    }
   ],
   "source": [
    "show_doc(ConvNav.children)"
   ]
  },
  {
   "cell_type": "code",
   "execution_count": null,
   "metadata": {},
   "outputs": [
    {
     "data": {
      "text/markdown": "<h4 id=\"ConvNav.blocks\" class=\"doc_header\"><code>ConvNav.blocks</code><a href=\"\" class=\"source_link\" style=\"float:right\">[source]</a></h4>\n\nDisplay and return block container modules",
      "text/plain": [
       "<IPython.core.display.Markdown object>"
      ]
     },
     "metadata": {
      "tags": []
     },
     "output_type": "display_data"
    }
   ],
   "source": [
    "show_doc(ConvNav.blocks)"
   ]
  },
  {
   "cell_type": "code",
   "execution_count": null,
   "metadata": {},
   "outputs": [
    {
     "data": {
      "text/markdown": "<h4 id=\"ConvNav.find_conv\" class=\"doc_header\"><code>ConvNav.find_conv</code><a href=\"__main__.py#L200\" class=\"source_link\" style=\"float:right\">[source]</a></h4>\n\n> <code>ConvNav.find_conv</code>(**`req`**=*`'all'`*, **`num`**=*`1`*, **`in_main`**=*`False`*)\n\nFinds the first (`req=First`) or last (`req=last`) `num` Conv2d layers in the model body. Set `in_main=True` to return conv layers from the main body of the model only.",
      "text/plain": [
       "<IPython.core.display.Markdown object>"
      ]
     },
     "metadata": {
      "tags": []
     },
     "output_type": "display_data"
    }
   ],
   "source": [
    "show_doc(ConvNav.find_conv)"
   ]
  },
  {
   "cell_type": "code",
   "execution_count": null,
   "metadata": {},
   "outputs": [
    {
     "data": {
      "text/markdown": "<h4 id=\"ConvNav.find_block\" class=\"doc_header\"><code>ConvNav.find_block</code><a href=\"__main__.py#L225\" class=\"source_link\" style=\"float:right\">[source]</a></h4>\n\n> <code>ConvNav.find_block</code>(**`b`**, **`layers`**=*`True`*, **`layers_only`**=*`False`*)\n\nFinds, displays and returns container blocks by module name `b`",
      "text/plain": [
       "<IPython.core.display.Markdown object>"
      ]
     },
     "metadata": {
      "tags": []
     },
     "output_type": "display_data"
    }
   ],
   "source": [
    "show_doc(ConvNav.find_block)"
   ]
  },
  {
   "cell_type": "markdown",
   "metadata": {},
   "source": [
    "Searchterm `b` should be the block's module name from `model.named_modules()`. Preceeding '0.' are removed so '0.0.6.1', '0.6.1' and '6.1' are all equivelent and match Container_block 1 of Container_child 6. Block layers are included by default. To return the block container element only, set `layers=False`. To just get the block's layers, set `layers_only=True`."
   ]
  },
  {
   "cell_type": "code",
   "execution_count": null,
   "metadata": {},
   "outputs": [
    {
     "data": {
      "text/markdown": "<h4 id=\"ConvNav.spread\" class=\"doc_header\"><code>ConvNav.spread</code><a href=\"__main__.py#L251\" class=\"source_link\" style=\"float:right\">[source]</a></h4>\n\n> <code>ConvNav.spread</code>(**`req`**=*`'conv'`*, **`num`**=*`5`*)\n\nReturns `num` of equally spaced `req` elements over the model. `req` = 'conv', 'block', or 'child'",
      "text/plain": [
       "<IPython.core.display.Markdown object>"
      ]
     },
     "metadata": {
      "tags": []
     },
     "output_type": "display_data"
    }
   ],
   "source": [
    "show_doc(ConvNav.spread)"
   ]
  },
  {
   "cell_type": "markdown",
   "metadata": {},
   "source": [
    "Spread is an ideal method for finding a small group of evenly spaced model elements (typically blocks) to use to investigate model activity, particularly for larger models (see `04_examples01.ipynb`). "
   ]
  },
  {
   "cell_type": "code",
   "execution_count": null,
   "metadata": {},
   "outputs": [],
   "source": [
    "%%capture\n",
    "test_learner, test_summary, _ = get_test_vars()\n",
    "cn_test = ConvNav(test_learner, test_summary)\n",
    "\n",
    "test_eq(len(cn_test.search(0.6, exact=False, show=False)), 16)\n",
    "cn_test.view()\n",
    "cn_test.head\n",
    "cn_test.body\n",
    "cn_test.divs \n",
    "test_eq(len(cn_test.linear_layers), 2)                                  \n",
    "test_eq(len(cn_test.dim_transitions), 5)\n",
    "test_eq(len(cn_test.find_block('0.5.1')), 6)\n",
    "test_eq(len(cn_test.find_block('0.5.1', layers=False)), 1)\n",
    "test_eq(len(cn_test.find_conv('first', 5)), 5)\n",
    "test_eq(len(cn_test.children), 8)\n",
    "test_eq(len(cn_test.blocks), 8)\n",
    "test_eq(len(cn_test.spread('conv', 8)), 7)\n",
    "del(cn_test)"
   ]
  },
  {
   "cell_type": "markdown",
   "metadata": {},
   "source": [
    "##Saving and loading CNDF dataframes."
   ]
  },
  {
   "cell_type": "code",
   "execution_count": null,
   "metadata": {},
   "outputs": [],
   "source": [
    "#export\n",
    "def cndf_save(cn, filename, path='', with_modules=False):\n",
    "  \"Saves the instance dataframe `cn._cndf` to persistent storage at `path` with `filename` gzip compresseed\"\n",
    "  df = cn._cndf.copy()\n",
    "  if not with_modules: df = df.iloc[:,:-1]\n",
    "  with gzip.open(path+filename, \"wb\") as f:\n",
    "    pickle.dump(df, f, pickle.HIGHEST_PROTOCOL)"
   ]
  },
  {
   "cell_type": "markdown",
   "metadata": {},
   "source": [
    "In native format, CNDF dataframes include the module objects in a 'lyr_obj' column and the combined size of the module objects can be quite large, 100-200mb for a complex model such as a densenet or xresnet. Thus, by default, module objects are removed from the dataframe before saving. To save the model objects as well, check you have enough space in the download location and set `with_modules` to True. Dataframes are gzip compressed. "
   ]
  },
  {
   "cell_type": "code",
   "execution_count": null,
   "metadata": {},
   "outputs": [],
   "source": [
    "#export\n",
    "def cndf_load(filename, path=''):\n",
    "  \"Loads a CNDF dataframe from persistent storage at `path`+`filename` and unzips it.\"\n",
    "  with gzip.open(path+filename, \"rb\") as f:\n",
    "    return pickle.load(f)"
   ]
  },
  {
   "cell_type": "code",
   "execution_count": null,
   "metadata": {},
   "outputs": [],
   "source": [
    "#hide\n",
    "# save example ConvNav Learner, Learner.summary() and and df to use in testing and exmaples\n",
    "\n",
    "# with gzip.open(\"test_learner_resnet18\", \"wb\") as f:\n",
    "#     pickle.dump(learn, f, pickle.HIGHEST_PROTOCOL)\n",
    "\n",
    "# with gzip.open(\"test_summary_resnet18\", \"wb\") as f:\n",
    "#     pickle.dump(learn.summary(), f, pickle.HIGHEST_PROTOCOL)\n",
    "    \n",
    "# df_test = cn_test._cndf.iloc[:,:-1]\n",
    "# with gzip.open(\"test_df_resnet18\", \"wb\") as f:\n",
    "#     pickle.dump(df_test, f, pickle.HIGHEST_PROTOCOL)"
   ]
  },
  {
   "cell_type": "code",
   "execution_count": null,
   "metadata": {},
   "outputs": [],
   "source": [
    "#hide\n",
    "test_df = None\n",
    "test_learner = None\n",
    "test_summary = None"
   ]
  },
  {
   "cell_type": "code",
   "execution_count": null,
   "metadata": {},
   "outputs": [],
   "source": [
    "#hide\n",
    "# download the example Convnav object and df\n",
    "with gzip.open(\"test_df_resnet18\", \"rb\") as f:\n",
    "    test_df = pickle.load(f)\n",
    "\n",
    "with gzip.open(\"test_summary_resnet18\", \"rb\") as f:\n",
    "    test_summary = pickle.load(f)\n",
    "\n",
    "with gzip.open(\"test_learner_resnet18\", \"rb\") as f:\n",
    "    test_learner = pickle.load(f)"
   ]
  }
 ],
 "metadata": {
  "kernelspec": {
   "display_name": "Python 3",
   "language": "python",
   "name": "python3"
  }
 },
 "nbformat": 4,
 "nbformat_minor": 0
}
