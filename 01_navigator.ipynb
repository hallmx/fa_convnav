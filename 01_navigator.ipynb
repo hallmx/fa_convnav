{
 "cells": [
  {
   "cell_type": "code",
   "execution_count": null,
   "metadata": {},
   "outputs": [],
   "source": [
    "# default_exp navigator"
   ]
  },
  {
   "cell_type": "code",
   "execution_count": null,
   "metadata": {},
   "outputs": [
    {
     "name": "stdout",
     "output_type": "stream",
     "text": [
      "Go to this URL in a browser: https://accounts.google.com/o/oauth2/auth?client_id=947318989803-6bn6qk8qdgf4n4g3pfee6491hc0brc4i.apps.googleusercontent.com&redirect_uri=urn%3aietf%3awg%3aoauth%3a2.0%3aoob&response_type=code&scope=email%20https%3a%2f%2fwww.googleapis.com%2fauth%2fdocs.test%20https%3a%2f%2fwww.googleapis.com%2fauth%2fdrive%20https%3a%2f%2fwww.googleapis.com%2fauth%2fdrive.photos.readonly%20https%3a%2f%2fwww.googleapis.com%2fauth%2fpeopleapi.readonly\n",
      "\n",
      "Enter your authorization code:\n",
      "··········\n",
      "Mounted at /content/drive\n"
     ]
    }
   ],
   "source": [
    "#hide\n",
    "from google.colab import drive\n",
    "drive.mount('/content/drive')"
   ]
  },
  {
   "cell_type": "code",
   "execution_count": null,
   "metadata": {},
   "outputs": [],
   "source": [
    "#hide\n",
    "!pip install nbdev\n",
    "!pip install fastcore"
   ]
  },
  {
   "cell_type": "code",
   "execution_count": null,
   "metadata": {},
   "outputs": [
    {
     "name": "stdout",
     "output_type": "stream",
     "text": [
      "/content/drive/My Drive/fa_convnav\n"
     ]
    }
   ],
   "source": [
    "#hide\n",
    "% cd /content/drive/My\\ Drive/fa_convnav"
   ]
  },
  {
   "cell_type": "code",
   "execution_count": null,
   "metadata": {},
   "outputs": [],
   "source": [
    "#hide\n",
    "#not deps but we need them to use nbdev and run tests\n",
    "from nbdev import * \n",
    "from nbdev.showdoc import *\n",
    "from fastcore.test import *"
   ]
  },
  {
   "cell_type": "code",
   "execution_count": null,
   "metadata": {},
   "outputs": [],
   "source": [
    "#hide\n",
    "! pip install fastai2"
   ]
  },
  {
   "cell_type": "code",
   "execution_count": null,
   "metadata": {},
   "outputs": [
    {
     "data": {
      "text/html": [
       ""
      ],
      "text/plain": [
       "<IPython.core.display.HTML object>"
      ]
     },
     "metadata": {
      "tags": []
     },
     "output_type": "display_data"
    }
   ],
   "source": [
    "#hide\n",
    "from fastai2.basics import *\n",
    "from fastai2.callback.all import *\n",
    "from fastai2.vision.all import *\n",
    "from torch import torch\n",
    "\n",
    "pets = DataBlock(blocks=(ImageBlock, CategoryBlock), \n",
    "                 get_items=get_image_files, \n",
    "                 splitter=RandomSplitter(),\n",
    "                 get_y=RegexLabeller(pat = r'/([^/]+)_\\d+.jpg$'),\n",
    "                 item_tfms=Resize(460),\n",
    "                 batch_tfms=[*aug_transforms(size=224, max_rotate=30, min_scale=0.75), Normalize.from_stats(*imagenet_stats)])\n",
    "\n",
    "dls = pets.dataloaders(untar_data(URLs.PETS)/\"images\",  bs=128)"
   ]
  },
  {
   "cell_type": "code",
   "execution_count": null,
   "metadata": {},
   "outputs": [
    {
     "name": "stderr",
     "output_type": "stream",
     "text": [
      "Downloading: \"https://download.pytorch.org/models/densenet121-a639ec97.pth\" to /root/.cache/torch/checkpoints/densenet121-a639ec97.pth\n",
      "100%|██████████| 30.8M/30.8M [00:00<00:00, 63.6MB/s]\n"
     ]
    }
   ],
   "source": [
    "#hide\n",
    "learn = cnn_learner(\n",
    "    dls, \n",
    "    densenet121, \n",
    "    opt_func=partial(Adam, lr=slice(3e-3), wd=0.01, eps=1e-8), \n",
    "    metrics=error_rate, \n",
    "    config=cnn_config(ps=0.33)).to_fp16()"
   ]
  },
  {
   "cell_type": "markdown",
   "metadata": {},
   "source": [
    "# Navigator\n",
    "\n",
    "> CNN viewer and navigator"
   ]
  },
  {
   "cell_type": "code",
   "execution_count": null,
   "metadata": {},
   "outputs": [],
   "source": [
    "#export\n",
    "from fa_convnav.models import models\n",
    "from dataclasses import dataclass\n",
    "from pandas import DataFrame, option_context\n"
   ]
  },
  {
   "cell_type": "code",
   "execution_count": null,
   "metadata": {},
   "outputs": [],
   "source": [
    "#export\n",
    "def get_row(l, m):\n",
    "  \"Construct a convnav dataframe row from information in fastai `learner.named_modules()`\"\n",
    "\n",
    "  # create generic row data from `l` (model.named_module() layer) and `m` (model_type)\n",
    "  lyr_name = l[0]\n",
    "  lyr_obj = l[1]\n",
    "  ln_split = str(lyr_name).split('.', 4)\n",
    "  ln_n_splits = len(ln_split)\n",
    "  lyr_str = str(lyr_obj)\n",
    "\n",
    "  tch_cls_str = str(type(lyr_obj))\n",
    "  tch_cls_substr =  tch_cls_str[tch_cls_str.find(\"<class\")+8: tch_cls_str.find(\">\")-1]\n",
    "  tch_cls = tch_cls_substr.split('.')[-1]\n",
    "\n",
    "  div = tch_cls if lyr_name == '0' or lyr_name == '1' else ''\n",
    "  mod = tch_cls if ln_n_splits == 2 else ''\n",
    "  blk = tch_cls if ln_n_splits == 3 and not lyr_name.startswith('1') else ''\n",
    "  lyr = lyr_str[:90]\n",
    "\n",
    "  # customise generic row for peculiarities of specific models\n",
    "  if m == 'vgg' or m == 'alexnet':\n",
    "    if ln_n_splits >2: ln_split[2] = '' \n",
    "    blk = ''\n",
    "\n",
    "  elif m == 'squeezenet':\n",
    "     blk = tch_cls if ln_n_splits == 3 and tch_cls == 'Fire' else '' \n",
    "     if blk == 'Fire': lyr = ''   \n",
    "\n",
    "  elif m == 'resnet':\n",
    "    if blk == 'BasicBlock' or blk == 'Bottleneck': lyr = ''\n",
    "    else:\n",
    "      if ln_n_splits > 4: lyr = f\". {lyr_str[:87]}\" \n",
    "      if ln_n_splits == 4 and ln_split[3] == 'downsample': lyr = tch_cls\n",
    "       \n",
    "  elif m == 'densenet':\n",
    "    lyr_name = lyr_name.replace('denseblock', '').replace('denselayer', '')\n",
    "    ln_split = str(lyr_name).split('.', 4)\n",
    "    mod = tch_cls if (lyr_name.startswith('0') and ln_n_splits == 3) or (lyr_name.startswith('1') and ln_n_splits == 2) else ''\n",
    "    blk = tch_cls if ln_n_splits == 4 and tch_cls == '_DenseLayer' else '' \n",
    "    if mod == '_DenseBlock' or mod == '_Transition' or blk == '_DenseLayer': \n",
    "      lyr = ''\n",
    "    else: \n",
    "      if lyr_name == '0' or lyr_name == '1': div = tch_cls \n",
    "      if lyr_name == '0.0': div = f'. {tch_cls}'\n",
    "      \n",
    "  elif m == 'xresnet':\n",
    "    blk = tch_cls if ln_n_splits == 3 and tch_cls == 'ResBlock' else '' \n",
    "    if mod == 'ConvLayer' or blk == 'ResBlock': \n",
    "      lyr = ''\n",
    "    else:\n",
    "      if ln_n_splits < 4: lyr =  lyr_str[:90]\n",
    "      elif ln_n_splits == 4 and tch_cls == 'Sequential': lyr =  tch_cls\n",
    "      elif ln_n_splits == 4 and tch_cls == 'ReLU': lyr =  lyr_str[:90]\n",
    "      elif ln_n_splits == 5 and tch_cls == 'ConvLayer': lyr =  f'. {tch_cls}'\n",
    "      else: lyr =  f'. . {lyr_str[:82]}'\n",
    "\n",
    "  else:\n",
    "    raise Exception(\"Model type not recognised\")\n",
    "  \n",
    "  return {\n",
    "      'Layer_name': lyr_name, \n",
    "      'Model': tch_cls if lyr_name == '' else '',\n",
    "      'Division': div,\n",
    "      'Module': mod,\n",
    "      'Block': blk, \n",
    "      'Layer_description': lyr,\n",
    "      'Torch_class': tch_cls_substr,\n",
    "      'Output_dimensions': '',\n",
    "      'Parameters': '',\n",
    "      'Trainable': '',\n",
    "      'Currently': '',\n",
    "      'div_id': ln_split[0] if ln_n_splits >0 else '',  \n",
    "      'mod_id': ln_split[1] if ln_n_splits >1 else '',  \n",
    "      'blk_id': ln_split[2] if ln_n_splits >2 else '',\n",
    "      'lyr_id': ln_split[3] if ln_n_splits >3 else '',\n",
    "      'tch_cls': tch_cls,\n",
    "      'out_dim': '',\n",
    "      'current': '',\n",
    "      'lyr_blk': '', \n",
    "      'lyr_mod': '',\n",
    "      'blk_mod': '',\n",
    "      'lyr_obj': lyr_obj\n",
    "      }"
   ]
  },
  {
   "cell_type": "code",
   "execution_count": null,
   "metadata": {},
   "outputs": [],
   "source": [
    "#export\n",
    "def find_model(n): \n",
    "    \"Returns tuple of model type and name (e.g. ('resnet', 'resnet50')) given `n`, the number of named_modules in `learn.model.named_modules()`\"\n",
    "    for d in models:\n",
    "      match = [(k, m) for k, v in d.items() for m, l in v if l == n]\n",
    "      if match != []: break\n",
    "    if len(match) > 0: return match[0] # (model_type, model_name)\n",
    "    assert True, 'Model not supported. Use `supported_models()` to get a list of supported models.'"
   ]
  },
  {
   "cell_type": "code",
   "execution_count": null,
   "metadata": {},
   "outputs": [],
   "source": [
    "#export\n",
    "@dataclass\n",
    "class CNDF:\n",
    "  \"Compile information from fastai `learner` and 'layer_info(learner)` into a dataframe\"\n",
    "  learner: any\n",
    "  layer_info: tuple\n",
    "\n",
    "  def sz_tn(t):\n",
    "    \"Adds batch size `bs` to a list if layer dimensions `t`\"\n",
    "    return [self.bs if i==0 else s for i, s in enumerate(t)]\n",
    "\n",
    "  def __post_init__(self):\n",
    "    self.model = self.learner.model                                         # fastai `learner.model` object\n",
    "    self.layers = list(self.learner.model.named_modules())                  # fastai `named_modules` method\n",
    "    self.num_layers = len(self.layers)                    \n",
    "    self.model_type, self.model_name = find_model(self.num_layers)\n",
    "\n",
    "    inp, info = self.layer_info                                   \n",
    "    self.inp_sz = [sz for sz in inp[0].shape]                          # `inp_sz` =  (bs, ch, h, w)\n",
    "    self.bs = self.inp_sz[0]                               \n",
    "\n",
    "    # create base dataframe `df` from a list of formatted rows in `layers`\n",
    "    df = DataFrame([get_row(l, self.model_type) for l in self.layers]) \n",
    "\n",
    "    # remove layer descriptions from container rows\n",
    "    df.at[0, 'Layer_description'] = ''\n",
    "    df.loc[(df['Division'].str.contains('Sequential')) | \\\n",
    "          (df['Module'] == 'Sequential') | \\\n",
    "          (df['Module'] == 'AdaptiveConcatPool2d'), 'Layer_description'] = ''\n",
    "\n",
    "    # add layer info (`o`, `p`, `t`, and `Frozen`/`Unfrozen`) from layer_info to all non-container rows\n",
    "    info_gen = ((_, p, t, self.add_bs(o)) for _, p, t, o in info) # info_gen = generator\n",
    "    for row in df.itertuples(): \n",
    "      idx = row.Index\n",
    "      if row.Layer_description not in ['', '. ConvLayer', 'Sequential']:\n",
    "        _, p, t, o = next(info_gen)\n",
    "        df.at[idx, 'Output_dimensions'] = str(o)\n",
    "        df.at[idx, 'Parameters'] =  p\n",
    "        df.at[idx, 'Trainable'] = t\n",
    "        if 'Conv2d' in row.Torch_class:\n",
    "          df.at[idx, 'Currently'] = 'Unfrozen' if t else 'Frozen'\n",
    "\n",
    "    # backfill container rows with summary layer information and layer/block counts\n",
    "    # 1.set up index stores and counters\n",
    "    m, b  = 0, 0                              \n",
    "    layer_count = [0, 0, 0]                                       # layers in [divs, modules, blocks]\n",
    "    block_count = [0, 0]                                          # blocks in [divs, modules]\n",
    "    frozen_count=[[0,0], [0, 0], [0,0]]                           # [Frozen, Unfrozen] layers in [divs, modules, blocks],  \n",
    "\n",
    "    # 2.iterate over rows, incrementing counters with each new row\n",
    "    for row in df.itertuples():\n",
    "      idx = row.Index\n",
    "      if row.Currently == 'Frozen':\n",
    "        for i in [0,1,2]: frozen_count[i][0] += 1 \n",
    "      if row.Currently == 'Unfrozen':\n",
    "        for i in [0,1,2]: frozen_count[i][1] += 1\n",
    "      if row.Layer_description != '':\n",
    "        for i in [0,1,2]: layer_count[i] += 1 \n",
    "\n",
    "      # backfill 'Module' container rows with layer_info and block and layer counts\n",
    "      if (row.Output_dimensions == '' and row.Module != '') or row.Layer_name == '1':\n",
    "        m = idx if m == 0 else m\n",
    "        df.at[m, 'out_dim'] = df.at[idx-1, 'Output_dimensions']\n",
    "        df.at[m, ['current', 'blk_mod', 'lyr_mod']] = self.get_frozen(frozen_count[1]), block_count[1], layer_count[1] \n",
    "        m = idx\n",
    "        layer_count[1] = block_count[1] = 0\n",
    "        for i in [0, 1]: frozen_count[1][i] = 0\n",
    "\n",
    "      # backfill 'Block' container rows with layer_info and layer counts\n",
    "      if (row.Output_dimensions == '' and row.Block != '') or row.Layer_name == '1':\n",
    "        b = idx if b == 0 else b\n",
    "        df.at[b, 'out_dim'] = df.at[idx-1, 'Output_dimensions'] or df.at[idx-2, 'Output_dimensions']  \n",
    "        df.at[b, ['current', 'lyr_blk']] = self.get_frozen(frozen_count[2]), layer_count[2]\n",
    "        b = idx\n",
    "        layer_count[2] = 0\n",
    "        for i in [0, 1]: block_count[i] += 1\n",
    "        for i in [0, 1]: frozen_count[2][i] = 0\n",
    "      \n",
    "    # 3.backfill division container rows with summary layer_info and block and layer counts\n",
    "    div0_idx = df[df['Layer_name'] == '0'].index.tolist()[0]\n",
    "    div1_idx = df[df['Layer_name'] == '1'].index.tolist()[0] \n",
    "\n",
    "    df.at[div0_idx, 'out_dim'] = df.at[div1_idx-1, 'Output_dimensions'] or df.at[div1_idx-2, 'Output_dimensions']  \n",
    "    df.at[div0_idx, ['current', 'lyr_mod', 'blk_mod']] = self.get_frozen(frozen_count[0]), layer_count[0], block_count[0]\n",
    "\n",
    "    df.at[div1_idx, 'out_dim'] = df.iloc[-1]['Output_dimensions']\n",
    "\n",
    "    self._cndf = df\n",
    "\n",
    "  \n",
    "  def add_bs(self, dims):\n",
    "    \"Adds batch size `bs` to a list if layer dimensions `dims`\"\n",
    "    return [self.bs if i==0 else s for i, s in enumerate(dims)]\n",
    "\n",
    "  @staticmethod\n",
    "  def get_frozen(f):\n",
    "    \"Returns a string interpretation of the number of frozen/unfrozen layers in tuple `f`\"\n",
    "    if f[0] == 0: return 'Unfrozen'\n",
    "    elif f[1] == 0: return 'Frozen'\n",
    "    else: return f'{f[0]}/{(f[0]+f[1])} layers frozen'\n",
    "\n",
    "  @property\n",
    "  def output_dimensions(self):\n",
    "    \"Returns output dimensions of model (bs, classes)\"\n",
    "    return self._cndf.iloc[-1]['Output_dimensions']\n",
    "\n",
    "  @property\n",
    "  def frozen_to(self):\n",
    "    \"Returns parameter group model is curently frozen to\"\n",
    "    return self.learner.opt.frozen_idx + 1\n",
    "\n",
    "  @property\n",
    "  def num_param_groups(self):\n",
    "    \"Returns number of parameter groups\"\n",
    "    return len(self.learner.opt.param_groups)\n",
    "\n",
    "  @property\n",
    "  def batch_size(self):\n",
    "    \"Returns the batch size of the current learner\"\n",
    "    return self.bs\n",
    "\n",
    "  @property\n",
    "  def input_sizes(self):\n",
    "    \"Returns the sizes (dimensions bs, ch, h, w) of the model)\"\n",
    "    return self.input_sz\n",
    "\n",
    "  @property\n",
    "  def model_info(self):\n",
    "    \"Return an info string derived from`learn.model`\"  \n",
    "    res = f\"{self.model_type.capitalize()}: {self.model_name.capitalize()}\\n\"\n",
    "    res += f\"Input shape: {self.inp_sz} (bs, ch, h, w)\\n\"\n",
    "    res += f\"Output features: {self.output_dimensions} (bs, classes)\\n\" \n",
    "    res += f\"Currently frozen to parameter group {self.frozen_to} out of {self.num_param_groups}\" \n",
    "    return res\n",
    "\n",
    "  @property\n",
    "  def cndf(self):\n",
    "    \"Returns a ConvNav dataframe\"\n",
    "    return self._cndf.copy()\n",
    "\n",
    "  @staticmethod\n",
    "  def supported_models():\n",
    "    \"Prints list of supported models from 'models' list (imported from models)\"\n",
    "    print('Supported models')\n",
    "    print('================\\n')\n",
    "    for d in models:\n",
    "        [[print(m) for m, l in v] for k, v in d.items()]"
   ]
  },
  {
   "cell_type": "markdown",
   "metadata": {},
   "source": [
    "CNDF class builds a dataframe with information froma fastai learner and fastai layer_info(learner) mathod. The resulting dataframe, called a CNDF or ConvNav dataframe, represents both the structure and information of the original model and architecture. \n",
    "\n",
    "Create a new CNDF dataframe with \n",
    "\n",
    "```\n",
    "cndf = CNDF(learner, layer_info(learner)\n",
    "```\n",
    "\n",
    "A CNDF dataframe is automatically created when a ConvNav instance is created and all the following methods are also available from within a ConvNav instance. \n"
   ]
  },
  {
   "cell_type": "code",
   "execution_count": null,
   "metadata": {},
   "outputs": [
    {
     "data": {
      "text/markdown": "<h4 id=\"CNDF.supported_models\" class=\"doc_header\"><code>CNDF.supported_models</code><a href=\"__main__.py#L138\" class=\"source_link\" style=\"float:right\">[source]</a></h4>\n\n> <code>CNDF.supported_models</code>()\n\nPrints list of supported models from 'models' list (imported from models)",
      "text/plain": [
       "<IPython.core.display.Markdown object>"
      ]
     },
     "metadata": {
      "tags": []
     },
     "output_type": "display_data"
    }
   ],
   "source": [
    "show_doc(CNDF.supported_models)"
   ]
  },
  {
   "cell_type": "code",
   "execution_count": null,
   "metadata": {},
   "outputs": [
    {
     "data": {
      "text/markdown": "<h4 id=\"CNDF.cndf\" class=\"doc_header\"><code>CNDF.cndf</code><a href=\"\" class=\"source_link\" style=\"float:right\">[source]</a></h4>\n\nReturns a ConvNav dataframe",
      "text/plain": [
       "<IPython.core.display.Markdown object>"
      ]
     },
     "metadata": {
      "tags": []
     },
     "output_type": "display_data"
    }
   ],
   "source": [
    "show_doc(CNDF.cndf)"
   ]
  },
  {
   "cell_type": "code",
   "execution_count": null,
   "metadata": {},
   "outputs": [
    {
     "data": {
      "text/markdown": "<h4 id=\"CNDF.batch_size\" class=\"doc_header\"><code>CNDF.batch_size</code><a href=\"\" class=\"source_link\" style=\"float:right\">[source]</a></h4>\n\nReturns the batch size of the current learner",
      "text/plain": [
       "<IPython.core.display.Markdown object>"
      ]
     },
     "metadata": {
      "tags": []
     },
     "output_type": "display_data"
    }
   ],
   "source": [
    "show_doc(CNDF.batch_size)"
   ]
  },
  {
   "cell_type": "code",
   "execution_count": null,
   "metadata": {},
   "outputs": [
    {
     "data": {
      "text/markdown": "<h4 id=\"CNDF.input_sizes\" class=\"doc_header\"><code>CNDF.input_sizes</code><a href=\"\" class=\"source_link\" style=\"float:right\">[source]</a></h4>\n\nReturns the sizes (dimensions bs, ch, h, w) of the model)",
      "text/plain": [
       "<IPython.core.display.Markdown object>"
      ]
     },
     "metadata": {
      "tags": []
     },
     "output_type": "display_data"
    }
   ],
   "source": [
    "show_doc(CNDF.input_sizes)"
   ]
  },
  {
   "cell_type": "code",
   "execution_count": null,
   "metadata": {},
   "outputs": [
    {
     "data": {
      "text/markdown": "<h4 id=\"CNDF.output_dimensions\" class=\"doc_header\"><code>CNDF.output_dimensions</code><a href=\"\" class=\"source_link\" style=\"float:right\">[source]</a></h4>\n\nReturns output dimensions of model (bs, classes)",
      "text/plain": [
       "<IPython.core.display.Markdown object>"
      ]
     },
     "metadata": {
      "tags": []
     },
     "output_type": "display_data"
    }
   ],
   "source": [
    "show_doc(CNDF.output_dimensions)"
   ]
  },
  {
   "cell_type": "code",
   "execution_count": null,
   "metadata": {},
   "outputs": [
    {
     "data": {
      "text/markdown": "<h4 id=\"CNDF.model_info\" class=\"doc_header\"><code>CNDF.model_info</code><a href=\"\" class=\"source_link\" style=\"float:right\">[source]</a></h4>\n\nReturn an info string derived from`learn.model`",
      "text/plain": [
       "<IPython.core.display.Markdown object>"
      ]
     },
     "metadata": {
      "tags": []
     },
     "output_type": "display_data"
    }
   ],
   "source": [
    "show_doc(CNDF.model_info)"
   ]
  },
  {
   "cell_type": "code",
   "execution_count": null,
   "metadata": {},
   "outputs": [],
   "source": [
    "#export\n",
    "class CNDFView:\n",
    "  \"Class to view a convnav dataframe\"\n",
    "\n",
    "  def copy_layerinfo(self, df):\n",
    "    \"Copy layer information and block/layer counts over from silent columns to displayed columns\"\n",
    "    df.loc[df['Division'] == '', 'Division'] = df['div_id']\n",
    "    df.loc[df['Module'] == '', 'Module'] = df['mod_id']\n",
    "    df.loc[df['Block'] == '', 'Block'] = df['blk_id']\n",
    "    df.loc[df['Output_dimensions'] == '', 'Output_dimensions'] = df['out_dim']\n",
    "    df.loc[df['Currently'] == '', 'Currently'] = df['current']\n",
    "    return df\n",
    "\n",
    "  def view(self, df=None, verbose=3, tight=True, truncate=0, align_cols='left', top=False, return_df=False):\n",
    "    \"Display dataframe `df` with options and styling\"\n",
    "\n",
    "    _df = df if df is not None else self._cndf.copy()\n",
    "\n",
    "    assert type(_df) == DataFrame and 'Layer_name' in _df.columns, 'Not a valid convnav dataframe'\n",
    "    assert isinstance(truncate, int) and -10 <= truncate <= 10, f\"Argument 'truncate' must be an integer between -10 (show more cols) and +10 (show fewer cols)\"\n",
    "    assert isinstance(verbose, int) and 1 <= verbose <= 4, f\"Argument verbose must be 1 2 or 3 \"\n",
    "    if not isinstance(tight, bool): tight = True\n",
    "\n",
    "    if len(_df) < 10: tight = False\n",
    "    if verbose != 3: truncate = (10, 4, 0, -10)[verbose-1]\n",
    "\n",
    "    post_msg = ''\n",
    "    if top and len(_df) > 10:\n",
    "      post_msg = f'...{len(_df)-10} more layers'\n",
    "      _df = _df.iloc[:10]\n",
    "      tight=False\n",
    "      \n",
    "    _df.index.name = 'Index'\n",
    "\n",
    "    if len(_df) == 0:\n",
    "      print('No data to display')\n",
    "      return None\n",
    "\n",
    "    with option_context(\"display.max_rows\", 1000): \n",
    "      _df_styled = _df.iloc[:,:-(11+truncate)].style.set_properties(**{'text-align': align_cols})\n",
    "      if tight: \n",
    "        display(_df_styled)\n",
    "      else:\n",
    "        display(_df.iloc[:,:-(11+truncate)]) \n",
    "    print(post_msg)\n",
    "\n",
    "    if return_df: return(_df)\n",
    "\n",
    "  def copy_view(self, df, **kwargs):\n",
    "    \"Copy over layer information then call `view` to display dataframe\"\n",
    "    df = self.copy_layerinfo(df)\n",
    "    self.view(df=df, **kwargs)"
   ]
  },
  {
   "cell_type": "code",
   "execution_count": null,
   "metadata": {},
   "outputs": [
    {
     "data": {
      "text/markdown": "<h4 id=\"CNDFView.view\" class=\"doc_header\"><code>CNDFView.view</code><a href=\"__main__.py#L13\" class=\"source_link\" style=\"float:right\">[source]</a></h4>\n\n> <code>CNDFView.view</code>(**`df`**=*`None`*, **`verbose`**=*`3`*, **`tight`**=*`True`*, **`truncate`**=*`0`*, **`align_cols`**=*`'left'`*, **`top`**=*`False`*, **`return_df`**=*`False`*)\n\nDisplay dataframe `df` with options and styling",
      "text/plain": [
       "<IPython.core.display.Markdown object>"
      ]
     },
     "metadata": {
      "tags": []
     },
     "output_type": "display_data"
    }
   ],
   "source": [
    "show_doc(CNDFView.view)"
   ]
  },
  {
   "cell_type": "markdown",
   "metadata": {},
   "source": [
    "Method to format and display a ConvNav dataframe. Defaults to displaying the instance dataframe built by CNDF but will accept a valid ConvNav dataframe `df` as an argument. Other arguments:\n",
    "\n",
    "\n",
    "*   `verbose`: 1=Index and Layer_name columns only; 2=Model structure; 3=Model Structure and layer_info (output dims, params and frozen/unfrozen) (default); 4=includes normally hidden columns.  \n",
    "*   `tight`: False=normal row spacing; True=tight layout with minimal space between rows (best for large models with many rows to display). The default is True but dfs with fewer than 10 rows are automatically displayed with normal spacing.\n",
    "*   `truncate`: truncate number displayed columns by integer value between -10 and 10. Default=0. Negative values reveal hidden columns. Overidden when the verbose argument is set to a non-default setting.\n",
    "*   `align_cols`: Left (default); right\n",
    "*   `top`: like the pandas head method, displays first 10 rows only followed by a count of undisplayed rows\n",
    "*   `return_df`: return the formatted df to the caller if True. False returns None (default). \n",
    "\n",
    "\n"
   ]
  },
  {
   "cell_type": "markdown",
   "metadata": {},
   "source": [
    "CNDFView methods are also accessible from Convnav instances. \n",
    "\n",
    "```\n",
    "cn = ConvNav(learner, layer_info(learner)\n",
    "cn.view()\n",
    "```\n",
    "\n",
    "\n"
   ]
  },
  {
   "cell_type": "code",
   "execution_count": null,
   "metadata": {},
   "outputs": [],
   "source": [
    "#export\n",
    "class CNDFSearch:\n",
    "  \"Class to search a convnav dataframe, display the results in a dataframe and return the matching layer objects\"\n",
    "\n",
    "  def find_layer(self, df, searchterm, exact):\n",
    "    \"Searches `df` for `searchterm`, returning exact matches only if `exact=True` otherwise any match\"\n",
    "\n",
    "    if isinstance(searchterm, int):\n",
    "      assert searchterm >= 0 and searchterm <= len(self._cndf), f'Layer ID out of range: min 0, max {len(df)}'\n",
    "      x = df.iloc[searchterm].copy()\n",
    "      x = DataFrame(x).transpose()\n",
    "      return x    \n",
    "      \n",
    "    if isinstance(searchterm, float): searchterm = str(searchterm)\n",
    "      \n",
    "    if isinstance(searchterm, dict):\n",
    "      for col, s in searchterm.items():\n",
    "        assert col in df.columns, f'{col} not a valid column identifier. Valid column names are {df.columns}'\n",
    "        return df[df[col] == s].copy() if exact else df[df[col].str.contains(s)].copy()\n",
    "      return x\n",
    "\n",
    "    if isinstance(searchterm, str):\n",
    "      searchterm = searchterm.strip(' \\.')\n",
    "      cols = {'Layer_name', 'Torch_class', 'Division', 'Module', 'Block', 'Layer_description'}\n",
    "      if exact: \n",
    "        for col in cols:\n",
    "          x = df[df[col] == searchterm].copy()\n",
    "          if not x.empty: return x\n",
    "      else: \n",
    "        for col in cols:\n",
    "          x = df[df[col].str.contains(searchterm)].copy()\n",
    "          if not x.empty: return x\n",
    "      return x\n",
    "         \n",
    "    assert True, 'Unrecognizable searchterm'\n",
    "        \n",
    "  def search(self, searchterm, exact=True): \n",
    "    \"Finds any single or combination of container(s), block(s) or layer(s) in the model_df\"\n",
    "\n",
    "    _df = copy(self._cndf)\n",
    "\n",
    "    if isinstance(searchterm, float): searchterm = str(searchterm)\n",
    "\n",
    "    if isinstance(searchterm, int): \n",
    "      _df = self.find_layer(_df, searchterm, True) \n",
    "\n",
    "    elif isinstance(searchterm, str): \n",
    "      _df = self.find_layer(_df, searchterm, exact)  \n",
    "\n",
    "    elif isinstance(searchterm, dict):\n",
    "      _df = DataFrame()  \n",
    "      for col, s in searchterm.items():\n",
    "        new_df = self.find_layer(self._cndf, {col:s}, exact)\n",
    "        _df = pd.concat((_df, new_df), axis=0, ignore_index=False).drop_duplicates('Layer_name')\n",
    "\n",
    "    elif isinstance(searchterm, list):\n",
    "      _df = DataFrame()  \n",
    "      for s in searchterm: \n",
    "        new_df = self.find_layer(self._cndf, s, exact)\n",
    "        _df = pd.concat((_df, new_df), axis=0, ignore_index=False).drop_duplicates('Layer_name')\n",
    "\n",
    "    elif isinstance(searchterm, tuple):\n",
    "      for s in searchterm:\n",
    "        _df = self.find_layer(_df, s, exact)\n",
    "\n",
    "    else: assert True, 'Unrecognizable searchterm'\n",
    "\n",
    "    if _df is not None and not _df.empty:\n",
    "      print(f'{len(_df)} layers found matching searchterm(s): {searchterm}\\n')\n",
    "      self.view(df=_df)\n",
    "      return _df['lyr_obj'].tolist()\n",
    "    else: \n",
    "      print(f'No matches for searchterm(s): {searchterm}\\n')\n",
    "      return None"
   ]
  },
  {
   "cell_type": "code",
   "execution_count": null,
   "metadata": {},
   "outputs": [
    {
     "data": {
      "text/markdown": "<h4 id=\"CNDFSearch.search\" class=\"doc_header\"><code>CNDFSearch.search</code><a href=\"__main__.py#L36\" class=\"source_link\" style=\"float:right\">[source]</a></h4>\n\n> <code>CNDFSearch.search</code>(**`searchterm`**, **`exact`**=*`True`*)\n\nFinds any single or combination of container(s), block(s) or layer(s) in the model_df",
      "text/plain": [
       "<IPython.core.display.Markdown object>"
      ]
     },
     "metadata": {
      "tags": []
     },
     "output_type": "display_data"
    }
   ],
   "source": [
    "show_doc(CNDFSearch.search)"
   ]
  },
  {
   "cell_type": "markdown",
   "metadata": {},
   "source": [
    "`Searchterm` can be:\n",
    "\n",
    "*   `int` : the module with Index number `int` is returned\n",
    "*   `float`: module(s) where `str(float)` matches the Layer_name are returned\n",
    "*   `str`: module(s) with `str` in one of 'Layer_name', 'Torch_class', 'Division', 'Module', 'Block', 'Layer_description' are returned. Columns are searched in this order with the search ending with the first column to make a match/matches. \n",
    "*   `dict`, e.g. {'col', 'str'} matches for `str` in column `col` only are returned\n",
    "\n",
    "Searchterms can also be a combined as follows:\n",
    "\n",
    "*   `[101, 102, 105]` matches modules with the Index numbers 101, 102 and 105. Lists of floats, strings, dicts or combinations thereof are also valid searchterms.\n",
    "*   `('0.5', 'conv2d')` matches modules where BOTH `0.5` AND `conv2d` match. Tuples of floats, strings, dicts or combinations thereof are also valid.\n",
    "*   `{{'col1', 'str1'}, {'col2', 'str2'}}` matches `str1` in `col1` as well as `str2` in `col`'.\n",
    "\n",
    "Kwarg exact=True (dafault) matches searchterms exactly with column entries, otherwise (exact=False) all column entries that contain the searchterm are matches. \n",
    "\n"
   ]
  },
  {
   "cell_type": "markdown",
   "metadata": {},
   "source": [
    "CNDFSearch methods are also accessible from Convnav instances.\n",
    "\n",
    "```\n",
    "cn = ConvNav(learner, layer_info(learner)\n",
    "seachterm = 128\n",
    "cn.search(searchterm)\n",
    "```"
   ]
  },
  {
   "cell_type": "code",
   "execution_count": null,
   "metadata": {},
   "outputs": [],
   "source": [
    "#export\n",
    "class ConvNav(CNDF, CNDFSearch, CNDFView):\n",
    "  \"Class to view fastai supported CNNs, search and select module(s) and layer(s) for further investigation\"\n",
    "  def __init__(self, learner, layer_info):\n",
    "    super().__init__(learner, layer_info )\n",
    "\n",
    "  def __len__(self):\n",
    "    return len(self._cndf)\n",
    "\n",
    "  def __str__(self) -> str:\n",
    "    return self.model_info\n",
    "\n",
    "  def __call__(self):\n",
    "    self.view(head=True)\n",
    "\n",
    "  def __contains__(self, s):\n",
    "    return self.search(s)\n",
    "\n",
    "  @property\n",
    "  def head(self):\n",
    "    \"Print `model` head summary info and layers\"\n",
    "    df = self._cndf.copy()\n",
    "    df = df[df['Layer_name'].str.startswith('1')]\n",
    "    if not df.empty:\n",
    "      res = f\"{self.model_type.capitalize()}: {self.model_name.capitalize()}\\n\"\n",
    "      res += f\"Input shape: {self._cndf.iloc[1]['out_dim']} (bs, filt, h, w)\\n\"\n",
    "      res += f\"Output features: {self.output_dimensions} (bs, classes)\\n\" \n",
    "      print(res)\n",
    "      self.view(df, truncate=1)\n",
    "    else:\n",
    "      res = \"Model has no head\"\n",
    "      print(res)\n",
    "\n",
    "  @property\n",
    "  def body(self):\n",
    "    \"Print `model` body summary info and layers\"\n",
    "    df = self._cndf.copy()\n",
    "    df = df.loc[df['Layer_name'].str.startswith('0')]\n",
    "    if not df.empty:\n",
    "      res = f\"{self.model_type.capitalize()}: {self.model_name.capitalize()}\\n\"\n",
    "      res += f\"Input shape: {self.input_sizes} (bs, ch, h, w)\\n\"\n",
    "      res += f\"Output dimensions: {df.iloc[-1]['Output_dimensions']} (bs, filt, h, w)\\n\"\n",
    "      res += f\"Currently frozen to parameter group {self.frozen_to} out of {self.num_param_groups}\\n\" \n",
    "      print(res)\n",
    "      self.view(df)\n",
    "    else:\n",
    "      res = \"Model body has no contents\"\n",
    "      print(res)\n",
    "\n",
    "  @property\n",
    "  def divs(self):\n",
    "    \"Print Summary information from `model` head and body\"\n",
    "    df = self._cndf[(self._cndf['Layer_name'] == '0') | (self._cndf['Layer_name'] == '1')].copy()\n",
    "\n",
    "    for i in range(2):\n",
    "      df_div = self._cndf.loc[self._cndf['div_id'] == str(i)].copy()\n",
    "      df.iloc[i]['Model'] = self.model_name\n",
    "      df.iloc[i]['Module'] = len(df_div[df_div['Module'] != ''])\n",
    "      df.iloc[i]['Block'] = len(df_div[df_div['Block'] != ''])\n",
    "      df.iloc[i]['Layer_description'] = len(df_div[df_div['Layer_description'] != ''])\n",
    "      params = df_div['Parameters'].values\n",
    "      params_summed = sum(filter(lambda i: isinstance(i, int), params))\n",
    "      df.iloc[i]['Parameters'] = params_summed\n",
    "\n",
    "    df['Output_dimensions'] = df['out_dim']\n",
    "    df.iloc[0]['Currently'] = df.iloc[0]['current']\n",
    "\n",
    "    df = df.rename(columns={'Module': 'Child modules', 'Block': 'Blocks', 'Layer_description': 'Layers'})\n",
    "    print(f\"{self.model_name.capitalize()}\\nDivisions:  body (0), head (1)\\n\")\n",
    "    self.view(df, tight=False)\n",
    "\n",
    "  @property\n",
    "  def dim_transitions(self):\n",
    "    \"Prints and returns all `model` layers which change dimensions between input and output\"\n",
    "    df = self._cndf[self._cndf['Torch_class'].str.contains('Conv2d')].copy()\n",
    "\n",
    "    n = []\n",
    "    old_dims = 0\n",
    "    for i, row in enumerate(df.iterrows()):\n",
    "      row=row[1]\n",
    "      new_dims = row['Output_dimensions'].rstrip(']').split(',')[-1]\n",
    "      if new_dims != old_dims:\n",
    "        n.append(i)\n",
    "        old_dims = new_dims\n",
    "    df = df.iloc[n]\n",
    "\n",
    "    print(f\"{self.model_name.capitalize()}\\nLayer dimension changes\\n\")\n",
    "    self.copy_view(df, tight=False)\n",
    "    return df['lyr_obj'].tolist()\n",
    "\n",
    "  @property\n",
    "  def linear_layers(self):\n",
    "    \"Prints and returns all linear layers in the `model`\"\n",
    "    df = self._cndf[self._cndf['Torch_class'].str.contains('Linear')].copy()\n",
    "    df['Division'] = df['div_id']\n",
    "\n",
    "    print(f\"{self.model_name.capitalize()} linear layers\\n\")\n",
    "    self.view(df, truncate=1, tight=False)\n",
    "    return df['lyr_obj'].tolist()\n"
   ]
  },
  {
   "cell_type": "markdown",
   "metadata": {},
   "source": [
    ""
   ]
  },
  {
   "cell_type": "code",
   "execution_count": null,
   "metadata": {},
   "outputs": [
    {
     "data": {
      "text/markdown": "<h4 id=\"ConvNav.head\" class=\"doc_header\"><code>ConvNav.head</code><a href=\"\" class=\"source_link\" style=\"float:right\">[source]</a></h4>\n\nPrint `model` head summary info and layers",
      "text/plain": [
       "<IPython.core.display.Markdown object>"
      ]
     },
     "metadata": {
      "tags": []
     },
     "output_type": "display_data"
    }
   ],
   "source": [
    "show_doc(ConvNav.head)"
   ]
  },
  {
   "cell_type": "code",
   "execution_count": null,
   "metadata": {},
   "outputs": [
    {
     "data": {
      "text/markdown": "<h4 id=\"ConvNav.body\" class=\"doc_header\"><code>ConvNav.body</code><a href=\"\" class=\"source_link\" style=\"float:right\">[source]</a></h4>\n\nPrint `model` body summary info and layers",
      "text/plain": [
       "<IPython.core.display.Markdown object>"
      ]
     },
     "metadata": {
      "tags": []
     },
     "output_type": "display_data"
    }
   ],
   "source": [
    "show_doc(ConvNav.body)"
   ]
  },
  {
   "cell_type": "code",
   "execution_count": null,
   "metadata": {},
   "outputs": [
    {
     "data": {
      "text/markdown": "<h4 id=\"ConvNav.divs\" class=\"doc_header\"><code>ConvNav.divs</code><a href=\"\" class=\"source_link\" style=\"float:right\">[source]</a></h4>\n\nPrint Summary information from `model` head and body",
      "text/plain": [
       "<IPython.core.display.Markdown object>"
      ]
     },
     "metadata": {
      "tags": []
     },
     "output_type": "display_data"
    }
   ],
   "source": [
    "show_doc(ConvNav.divs)"
   ]
  },
  {
   "cell_type": "code",
   "execution_count": null,
   "metadata": {},
   "outputs": [
    {
     "data": {
      "text/markdown": "<h4 id=\"ConvNav.dim_transitions\" class=\"doc_header\"><code>ConvNav.dim_transitions</code><a href=\"\" class=\"source_link\" style=\"float:right\">[source]</a></h4>\n\nPrints and returns all `model` layers which change dimensions between input and output",
      "text/plain": [
       "<IPython.core.display.Markdown object>"
      ]
     },
     "metadata": {
      "tags": []
     },
     "output_type": "display_data"
    }
   ],
   "source": [
    "show_doc(ConvNav.dim_transitions)"
   ]
  },
  {
   "cell_type": "markdown",
   "metadata": {},
   "source": [
    "Finds conv layers in the model where activation dimensions change betwen input and output. Transition layers are often good points to investigate model function and `dim_transitions` returns the layer objects for attaching callbacks and hooks. "
   ]
  },
  {
   "cell_type": "code",
   "execution_count": null,
   "metadata": {},
   "outputs": [
    {
     "name": "stdout",
     "output_type": "stream",
     "text": [
      "Densenet121\n",
      "Layer dimension changes\n",
      "\n"
     ]
    },
    {
     "data": {
      "text/html": [
       "<div>\n",
       "<style scoped>\n",
       "    .dataframe tbody tr th:only-of-type {\n",
       "        vertical-align: middle;\n",
       "    }\n",
       "\n",
       "    .dataframe tbody tr th {\n",
       "        vertical-align: top;\n",
       "    }\n",
       "\n",
       "    .dataframe thead th {\n",
       "        text-align: right;\n",
       "    }\n",
       "</style>\n",
       "<table border=\"1\" class=\"dataframe\">\n",
       "  <thead>\n",
       "    <tr style=\"text-align: right;\">\n",
       "      <th></th>\n",
       "      <th>Layer_name</th>\n",
       "      <th>Model</th>\n",
       "      <th>Division</th>\n",
       "      <th>Module</th>\n",
       "      <th>Block</th>\n",
       "      <th>Layer_description</th>\n",
       "      <th>Torch_class</th>\n",
       "      <th>Output_dimensions</th>\n",
       "      <th>Parameters</th>\n",
       "      <th>Trainable</th>\n",
       "      <th>Currently</th>\n",
       "    </tr>\n",
       "    <tr>\n",
       "      <th>Index</th>\n",
       "      <th></th>\n",
       "      <th></th>\n",
       "      <th></th>\n",
       "      <th></th>\n",
       "      <th></th>\n",
       "      <th></th>\n",
       "      <th></th>\n",
       "      <th></th>\n",
       "      <th></th>\n",
       "      <th></th>\n",
       "      <th></th>\n",
       "    </tr>\n",
       "  </thead>\n",
       "  <tbody>\n",
       "    <tr>\n",
       "      <th>3</th>\n",
       "      <td>0.0.conv0</td>\n",
       "      <td></td>\n",
       "      <td>0</td>\n",
       "      <td>Conv2d</td>\n",
       "      <td>conv0</td>\n",
       "      <td>Conv2d(3, 64, kernel_size=(7, 7), stride=(2, 2), padding=(3, 3), bias=False)</td>\n",
       "      <td>torch.nn.modules.conv.Conv2d</td>\n",
       "      <td>[128, 64, 112, 112]</td>\n",
       "      <td>9408</td>\n",
       "      <td>False</td>\n",
       "      <td>Frozen</td>\n",
       "    </tr>\n",
       "    <tr>\n",
       "      <th>11</th>\n",
       "      <td>0.0.1.1.conv1</td>\n",
       "      <td></td>\n",
       "      <td>0</td>\n",
       "      <td>0</td>\n",
       "      <td>1</td>\n",
       "      <td>Conv2d(64, 128, kernel_size=(1, 1), stride=(1, 1), bias=False)</td>\n",
       "      <td>torch.nn.modules.conv.Conv2d</td>\n",
       "      <td>[128, 128, 56, 56]</td>\n",
       "      <td>8192</td>\n",
       "      <td>False</td>\n",
       "      <td>Frozen</td>\n",
       "    </tr>\n",
       "    <tr>\n",
       "      <th>59</th>\n",
       "      <td>0.0.2.1.conv1</td>\n",
       "      <td></td>\n",
       "      <td>0</td>\n",
       "      <td>0</td>\n",
       "      <td>2</td>\n",
       "      <td>Conv2d(128, 128, kernel_size=(1, 1), stride=(1, 1), bias=False)</td>\n",
       "      <td>torch.nn.modules.conv.Conv2d</td>\n",
       "      <td>[128, 128, 28, 28]</td>\n",
       "      <td>16384</td>\n",
       "      <td>False</td>\n",
       "      <td>Frozen</td>\n",
       "    </tr>\n",
       "    <tr>\n",
       "      <th>149</th>\n",
       "      <td>0.0.3.1.conv1</td>\n",
       "      <td></td>\n",
       "      <td>0</td>\n",
       "      <td>0</td>\n",
       "      <td>3</td>\n",
       "      <td>Conv2d(256, 128, kernel_size=(1, 1), stride=(1, 1), bias=False)</td>\n",
       "      <td>torch.nn.modules.conv.Conv2d</td>\n",
       "      <td>[128, 128, 14, 14]</td>\n",
       "      <td>32768</td>\n",
       "      <td>False</td>\n",
       "      <td>Frozen</td>\n",
       "    </tr>\n",
       "    <tr>\n",
       "      <th>323</th>\n",
       "      <td>0.0.4.1.conv1</td>\n",
       "      <td></td>\n",
       "      <td>0</td>\n",
       "      <td>0</td>\n",
       "      <td>4</td>\n",
       "      <td>Conv2d(512, 128, kernel_size=(1, 1), stride=(1, 1), bias=False)</td>\n",
       "      <td>torch.nn.modules.conv.Conv2d</td>\n",
       "      <td>[128, 128, 7, 7]</td>\n",
       "      <td>65536</td>\n",
       "      <td>False</td>\n",
       "      <td>Frozen</td>\n",
       "    </tr>\n",
       "  </tbody>\n",
       "</table>\n",
       "</div>"
      ],
      "text/plain": [
       "          Layer_name Model Division  ... Parameters Trainable Currently\n",
       "Index                                ...                               \n",
       "3          0.0.conv0              0  ...       9408     False    Frozen\n",
       "11     0.0.1.1.conv1              0  ...       8192     False    Frozen\n",
       "59     0.0.2.1.conv1              0  ...      16384     False    Frozen\n",
       "149    0.0.3.1.conv1              0  ...      32768     False    Frozen\n",
       "323    0.0.4.1.conv1              0  ...      65536     False    Frozen\n",
       "\n",
       "[5 rows x 11 columns]"
      ]
     },
     "metadata": {
      "tags": []
     },
     "output_type": "display_data"
    },
    {
     "name": "stdout",
     "output_type": "stream",
     "text": [
      "\n"
     ]
    }
   ],
   "source": [
    "cn = ConvNav(learn, layer_info(learn))\n",
    "layers = cn.dim_transitions"
   ]
  },
  {
   "cell_type": "code",
   "execution_count": null,
   "metadata": {},
   "outputs": [
    {
     "data": {
      "text/markdown": "<h4 id=\"ConvNav.linear_layers\" class=\"doc_header\"><code>ConvNav.linear_layers</code><a href=\"\" class=\"source_link\" style=\"float:right\">[source]</a></h4>\n\nPrints and returns all linear layers in the `model`",
      "text/plain": [
       "<IPython.core.display.Markdown object>"
      ]
     },
     "metadata": {
      "tags": []
     },
     "output_type": "display_data"
    }
   ],
   "source": [
    "show_doc(ConvNav.linear_layers)"
   ]
  }
 ],
 "metadata": {
  "kernelspec": {
   "display_name": "Python 3",
   "language": "python",
   "name": "python3"
  }
 },
 "nbformat": 4,
 "nbformat_minor": 0
}
