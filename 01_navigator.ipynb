{
 "cells": [
  {
   "cell_type": "code",
   "execution_count": null,
   "metadata": {},
   "outputs": [],
   "source": [
    "# default_exp navigator"
   ]
  },
  {
   "cell_type": "code",
   "execution_count": null,
   "metadata": {},
   "outputs": [
    {
     "name": "stdout",
     "output_type": "stream",
     "text": [
      "Go to this URL in a browser: https://accounts.google.com/o/oauth2/auth?client_id=947318989803-6bn6qk8qdgf4n4g3pfee6491hc0brc4i.apps.googleusercontent.com&redirect_uri=urn%3aietf%3awg%3aoauth%3a2.0%3aoob&response_type=code&scope=email%20https%3a%2f%2fwww.googleapis.com%2fauth%2fdocs.test%20https%3a%2f%2fwww.googleapis.com%2fauth%2fdrive%20https%3a%2f%2fwww.googleapis.com%2fauth%2fdrive.photos.readonly%20https%3a%2f%2fwww.googleapis.com%2fauth%2fpeopleapi.readonly\n",
      "\n",
      "Enter your authorization code:\n",
      "··········\n",
      "Mounted at /content/drive\n"
     ]
    }
   ],
   "source": [
    "#hide\n",
    "from google.colab import drive\n",
    "drive.mount('/content/drive')"
   ]
  },
  {
   "cell_type": "code",
   "execution_count": null,
   "metadata": {},
   "outputs": [
    {
     "name": "stdout",
     "output_type": "stream",
     "text": [
      "Collecting nbdev\n",
      "\u001b[?25l  Downloading https://files.pythonhosted.org/packages/ce/86/e49e9f2baa3e220c09b4ca86d3403cb9094f19030f55177584de4e705bb1/nbdev-0.2.9-py3-none-any.whl (43kB)\n",
      "\r\u001b[K     |███████▋                        | 10kB 15.8MB/s eta 0:00:01\r\u001b[K     |███████████████▏                | 20kB 1.7MB/s eta 0:00:01\r\u001b[K     |██████████████████████▊         | 30kB 2.5MB/s eta 0:00:01\r\u001b[K     |██████████████████████████████▎ | 40kB 1.7MB/s eta 0:00:01\r\u001b[K     |████████████████████████████████| 51kB 1.7MB/s \n",
      "\u001b[?25hRequirement already satisfied: packaging in /usr/local/lib/python3.6/dist-packages (from nbdev) (20.1)\n",
      "Requirement already satisfied: nbconvert in /usr/local/lib/python3.6/dist-packages (from nbdev) (5.6.1)\n",
      "Collecting fastscript\n",
      "  Downloading https://files.pythonhosted.org/packages/55/0e/ecdc0213646bc82986884121109a38b50bbc2cd2c491bbbfdc7ae39228e3/fastscript-0.1.4-py3-none-any.whl\n",
      "Requirement already satisfied: pyyaml in /usr/local/lib/python3.6/dist-packages (from nbdev) (3.13)\n",
      "Requirement already satisfied: nbformat>=4.4.0 in /usr/local/lib/python3.6/dist-packages (from nbdev) (5.0.4)\n",
      "Requirement already satisfied: six in /usr/local/lib/python3.6/dist-packages (from packaging->nbdev) (1.12.0)\n",
      "Requirement already satisfied: pyparsing>=2.0.2 in /usr/local/lib/python3.6/dist-packages (from packaging->nbdev) (2.4.6)\n",
      "Requirement already satisfied: traitlets>=4.2 in /usr/local/lib/python3.6/dist-packages (from nbconvert->nbdev) (4.3.3)\n",
      "Requirement already satisfied: defusedxml in /usr/local/lib/python3.6/dist-packages (from nbconvert->nbdev) (0.6.0)\n",
      "Requirement already satisfied: bleach in /usr/local/lib/python3.6/dist-packages (from nbconvert->nbdev) (3.1.0)\n",
      "Requirement already satisfied: entrypoints>=0.2.2 in /usr/local/lib/python3.6/dist-packages (from nbconvert->nbdev) (0.3)\n",
      "Requirement already satisfied: jinja2>=2.4 in /usr/local/lib/python3.6/dist-packages (from nbconvert->nbdev) (2.11.1)\n",
      "Requirement already satisfied: mistune<2,>=0.8.1 in /usr/local/lib/python3.6/dist-packages (from nbconvert->nbdev) (0.8.4)\n",
      "Requirement already satisfied: pygments in /usr/local/lib/python3.6/dist-packages (from nbconvert->nbdev) (2.1.3)\n",
      "Requirement already satisfied: testpath in /usr/local/lib/python3.6/dist-packages (from nbconvert->nbdev) (0.4.4)\n",
      "Requirement already satisfied: pandocfilters>=1.4.1 in /usr/local/lib/python3.6/dist-packages (from nbconvert->nbdev) (1.4.2)\n",
      "Requirement already satisfied: jupyter-core in /usr/local/lib/python3.6/dist-packages (from nbconvert->nbdev) (4.6.1)\n",
      "Requirement already satisfied: ipython-genutils in /usr/local/lib/python3.6/dist-packages (from nbformat>=4.4.0->nbdev) (0.2.0)\n",
      "Requirement already satisfied: jsonschema!=2.5.0,>=2.4 in /usr/local/lib/python3.6/dist-packages (from nbformat>=4.4.0->nbdev) (2.6.0)\n",
      "Requirement already satisfied: decorator in /usr/local/lib/python3.6/dist-packages (from traitlets>=4.2->nbconvert->nbdev) (4.4.1)\n",
      "Requirement already satisfied: webencodings in /usr/local/lib/python3.6/dist-packages (from bleach->nbconvert->nbdev) (0.5.1)\n",
      "Requirement already satisfied: MarkupSafe>=0.23 in /usr/local/lib/python3.6/dist-packages (from jinja2>=2.4->nbconvert->nbdev) (1.1.1)\n",
      "Installing collected packages: fastscript, nbdev\n",
      "Successfully installed fastscript-0.1.4 nbdev-0.2.9\n",
      "Collecting fastcore\n",
      "  Downloading https://files.pythonhosted.org/packages/62/01/9cab1fdaef504edbe2e203111fd9d5d68fdc55ca06621e84851caa8ba7cf/fastcore-0.1.10-py3-none-any.whl\n",
      "Requirement already satisfied: numpy in /usr/local/lib/python3.6/dist-packages (from fastcore) (1.17.5)\n",
      "Requirement already satisfied: dataclasses>='0.7'; python_version < \"3.7\" in /usr/local/lib/python3.6/dist-packages (from fastcore) (0.7)\n",
      "Installing collected packages: fastcore\n",
      "Successfully installed fastcore-0.1.10\n"
     ]
    }
   ],
   "source": [
    "#hide\n",
    "!pip install nbdev\n",
    "!pip install fastcore"
   ]
  },
  {
   "cell_type": "code",
   "execution_count": null,
   "metadata": {},
   "outputs": [
    {
     "name": "stdout",
     "output_type": "stream",
     "text": [
      "/content/drive/My Drive/fa_convnav\n"
     ]
    }
   ],
   "source": [
    "#hide\n",
    "% cd /content/drive/My\\ Drive/fa_convnav"
   ]
  },
  {
   "cell_type": "code",
   "execution_count": null,
   "metadata": {},
   "outputs": [],
   "source": [
    "#hide\n",
    "#not deps but we need them to use nbdev and run tests\n",
    "from nbdev import * \n",
    "from nbdev.showdoc import *\n",
    "from fastcore.test import *"
   ]
  },
  {
   "cell_type": "code",
   "execution_count": null,
   "metadata": {},
   "outputs": [
    {
     "name": "stdout",
     "output_type": "stream",
     "text": [
      "Collecting fastai2\n",
      "\u001b[?25l  Downloading https://files.pythonhosted.org/packages/3f/1b/48e49571f156fda9a870b6bb6f18941885eff1982bbdc892c740e4d02f63/fastai2-0.0.7-py3-none-any.whl (170kB)\n",
      "\r\u001b[K     |██                              | 10kB 18.4MB/s eta 0:00:01\r\u001b[K     |███▉                            | 20kB 1.7MB/s eta 0:00:01\r\u001b[K     |█████▊                          | 30kB 2.3MB/s eta 0:00:01\r\u001b[K     |███████▊                        | 40kB 1.6MB/s eta 0:00:01\r\u001b[K     |█████████▋                      | 51kB 1.8MB/s eta 0:00:01\r\u001b[K     |███████████▌                    | 61kB 2.2MB/s eta 0:00:01\r\u001b[K     |█████████████▌                  | 71kB 2.4MB/s eta 0:00:01\r\u001b[K     |███████████████▍                | 81kB 2.5MB/s eta 0:00:01\r\u001b[K     |█████████████████▎              | 92kB 2.8MB/s eta 0:00:01\r\u001b[K     |███████████████████▎            | 102kB 2.7MB/s eta 0:00:01\r\u001b[K     |█████████████████████▏          | 112kB 2.7MB/s eta 0:00:01\r\u001b[K     |███████████████████████         | 122kB 2.7MB/s eta 0:00:01\r\u001b[K     |█████████████████████████       | 133kB 2.7MB/s eta 0:00:01\r\u001b[K     |███████████████████████████     | 143kB 2.7MB/s eta 0:00:01\r\u001b[K     |████████████████████████████▉   | 153kB 2.7MB/s eta 0:00:01\r\u001b[K     |██████████████████████████████▊ | 163kB 2.7MB/s eta 0:00:01\r\u001b[K     |████████████████████████████████| 174kB 2.7MB/s \n",
      "\u001b[?25hRequirement already satisfied: fastprogress>=0.1.22 in /usr/local/lib/python3.6/dist-packages (from fastai2) (0.2.2)\n",
      "Collecting torch<1.4.0,>=1.2.0\n",
      "\u001b[?25l  Downloading https://files.pythonhosted.org/packages/88/95/90e8c4c31cfc67248bf944ba42029295b77159982f532c5689bcfe4e9108/torch-1.3.1-cp36-cp36m-manylinux1_x86_64.whl (734.6MB)\n",
      "\u001b[K     |████████████████████████████████| 734.6MB 24kB/s \n",
      "\u001b[?25hRequirement already satisfied: scikit-learn in /usr/local/lib/python3.6/dist-packages (from fastai2) (0.22.1)\n",
      "Requirement already satisfied: requests in /usr/local/lib/python3.6/dist-packages (from fastai2) (2.21.0)\n",
      "Requirement already satisfied: matplotlib in /usr/local/lib/python3.6/dist-packages (from fastai2) (3.1.3)\n",
      "Requirement already satisfied: pandas in /usr/local/lib/python3.6/dist-packages (from fastai2) (0.25.3)\n",
      "Requirement already satisfied: pillow in /usr/local/lib/python3.6/dist-packages (from fastai2) (6.2.2)\n",
      "Collecting torchvision<=0.4.2\n",
      "\u001b[?25l  Downloading https://files.pythonhosted.org/packages/9b/e2/2b1f88a363ae37b2ba52cfb785ddfb3dd5f7e7ec9459e96fd8299b84ae39/torchvision-0.4.2-cp36-cp36m-manylinux1_x86_64.whl (10.2MB)\n",
      "\u001b[K     |████████████████████████████████| 10.2MB 39.2MB/s \n",
      "\u001b[?25hRequirement already satisfied: spacy in /usr/local/lib/python3.6/dist-packages (from fastai2) (2.1.9)\n",
      "Requirement already satisfied: fastcore in /usr/local/lib/python3.6/dist-packages (from fastai2) (0.1.10)\n",
      "Requirement already satisfied: pyyaml in /usr/local/lib/python3.6/dist-packages (from fastai2) (3.13)\n",
      "Requirement already satisfied: scipy in /usr/local/lib/python3.6/dist-packages (from fastai2) (1.4.1)\n",
      "Requirement already satisfied: numpy in /usr/local/lib/python3.6/dist-packages (from torch<1.4.0,>=1.2.0->fastai2) (1.17.5)\n",
      "Requirement already satisfied: joblib>=0.11 in /usr/local/lib/python3.6/dist-packages (from scikit-learn->fastai2) (0.14.1)\n",
      "Requirement already satisfied: chardet<3.1.0,>=3.0.2 in /usr/local/lib/python3.6/dist-packages (from requests->fastai2) (3.0.4)\n",
      "Requirement already satisfied: idna<2.9,>=2.5 in /usr/local/lib/python3.6/dist-packages (from requests->fastai2) (2.8)\n",
      "Requirement already satisfied: certifi>=2017.4.17 in /usr/local/lib/python3.6/dist-packages (from requests->fastai2) (2019.11.28)\n",
      "Requirement already satisfied: urllib3<1.25,>=1.21.1 in /usr/local/lib/python3.6/dist-packages (from requests->fastai2) (1.24.3)\n",
      "Requirement already satisfied: kiwisolver>=1.0.1 in /usr/local/lib/python3.6/dist-packages (from matplotlib->fastai2) (1.1.0)\n",
      "Requirement already satisfied: cycler>=0.10 in /usr/local/lib/python3.6/dist-packages (from matplotlib->fastai2) (0.10.0)\n",
      "Requirement already satisfied: python-dateutil>=2.1 in /usr/local/lib/python3.6/dist-packages (from matplotlib->fastai2) (2.6.1)\n",
      "Requirement already satisfied: pyparsing!=2.0.4,!=2.1.2,!=2.1.6,>=2.0.1 in /usr/local/lib/python3.6/dist-packages (from matplotlib->fastai2) (2.4.6)\n",
      "Requirement already satisfied: pytz>=2017.2 in /usr/local/lib/python3.6/dist-packages (from pandas->fastai2) (2018.9)\n",
      "Requirement already satisfied: six in /usr/local/lib/python3.6/dist-packages (from torchvision<=0.4.2->fastai2) (1.12.0)\n",
      "Requirement already satisfied: preshed<2.1.0,>=2.0.1 in /usr/local/lib/python3.6/dist-packages (from spacy->fastai2) (2.0.1)\n",
      "Requirement already satisfied: cymem<2.1.0,>=2.0.2 in /usr/local/lib/python3.6/dist-packages (from spacy->fastai2) (2.0.3)\n",
      "Requirement already satisfied: srsly<1.1.0,>=0.0.6 in /usr/local/lib/python3.6/dist-packages (from spacy->fastai2) (1.0.1)\n",
      "Requirement already satisfied: wasabi<1.1.0,>=0.2.0 in /usr/local/lib/python3.6/dist-packages (from spacy->fastai2) (0.6.0)\n",
      "Requirement already satisfied: plac<1.0.0,>=0.9.6 in /usr/local/lib/python3.6/dist-packages (from spacy->fastai2) (0.9.6)\n",
      "Requirement already satisfied: thinc<7.1.0,>=7.0.8 in /usr/local/lib/python3.6/dist-packages (from spacy->fastai2) (7.0.8)\n",
      "Requirement already satisfied: murmurhash<1.1.0,>=0.28.0 in /usr/local/lib/python3.6/dist-packages (from spacy->fastai2) (1.0.2)\n",
      "Requirement already satisfied: blis<0.3.0,>=0.2.2 in /usr/local/lib/python3.6/dist-packages (from spacy->fastai2) (0.2.4)\n",
      "Requirement already satisfied: dataclasses>='0.7'; python_version < \"3.7\" in /usr/local/lib/python3.6/dist-packages (from fastcore->fastai2) (0.7)\n",
      "Requirement already satisfied: setuptools in /usr/local/lib/python3.6/dist-packages (from kiwisolver>=1.0.1->matplotlib->fastai2) (45.1.0)\n",
      "Requirement already satisfied: tqdm<5.0.0,>=4.10.0 in /usr/local/lib/python3.6/dist-packages (from thinc<7.1.0,>=7.0.8->spacy->fastai2) (4.28.1)\n",
      "Installing collected packages: torch, torchvision, fastai2\n",
      "  Found existing installation: torch 1.4.0\n",
      "    Uninstalling torch-1.4.0:\n",
      "      Successfully uninstalled torch-1.4.0\n",
      "  Found existing installation: torchvision 0.5.0\n",
      "    Uninstalling torchvision-0.5.0:\n",
      "      Successfully uninstalled torchvision-0.5.0\n",
      "Successfully installed fastai2-0.0.7 torch-1.3.1 torchvision-0.4.2\n"
     ]
    }
   ],
   "source": [
    "#hide\n",
    "! pip install fastai2"
   ]
  },
  {
   "cell_type": "code",
   "execution_count": null,
   "metadata": {},
   "outputs": [
    {
     "data": {
      "text/html": [
       ""
      ],
      "text/plain": [
       "<IPython.core.display.HTML object>"
      ]
     },
     "metadata": {
      "tags": []
     },
     "output_type": "display_data"
    }
   ],
   "source": [
    "#hide\n",
    "from fastai2.basics import *\n",
    "from fastai2.callback.all import *\n",
    "from fastai2.vision.all import *\n",
    "from torch import torch\n",
    "\n",
    "pets = DataBlock(blocks=(ImageBlock, CategoryBlock), \n",
    "                 get_items=get_image_files, \n",
    "                 splitter=RandomSplitter(),\n",
    "                 get_y=RegexLabeller(pat = r'/([^/]+)_\\d+.jpg$'),\n",
    "                 item_tfms=Resize(460),\n",
    "                 batch_tfms=[*aug_transforms(size=224, max_rotate=30, min_scale=0.75), Normalize.from_stats(*imagenet_stats)])\n",
    "\n",
    "dls = pets.dataloaders(untar_data(URLs.PETS)/\"images\",  bs=128)"
   ]
  },
  {
   "cell_type": "code",
   "execution_count": null,
   "metadata": {},
   "outputs": [
    {
     "name": "stderr",
     "output_type": "stream",
     "text": [
      "Downloading: \"https://download.pytorch.org/models/densenet121-a639ec97.pth\" to /root/.cache/torch/checkpoints/densenet121-a639ec97.pth\n",
      "100%|██████████| 30.8M/30.8M [00:00<00:00, 110MB/s]\n"
     ]
    }
   ],
   "source": [
    "#hide\n",
    "learn = cnn_learner(\n",
    "    dls, \n",
    "    densenet121, \n",
    "    opt_func=partial(Adam, lr=slice(3e-3), wd=0.01, eps=1e-8), \n",
    "    metrics=error_rate, \n",
    "    config=cnn_config(ps=0.33)).to_fp16()"
   ]
  },
  {
   "cell_type": "markdown",
   "metadata": {},
   "source": [
    "# Navigator\n",
    "\n",
    "> CNN viewer and navigator"
   ]
  },
  {
   "cell_type": "code",
   "execution_count": null,
   "metadata": {},
   "outputs": [],
   "source": [
    "#export\n",
    "from fa_convnav.models import models\n",
    "from dataclasses import dataclass\n",
    "from pandas import DataFrame, option_context\n"
   ]
  },
  {
   "cell_type": "code",
   "execution_count": null,
   "metadata": {},
   "outputs": [],
   "source": [
    "#export\n",
    "def get_row(l, m):\n",
    "  \"Construct a convnav dataframe row from information in fastai `learner.named_modules()`\"\n",
    "\n",
    "  # create generic row data from `l` (model.named_module() layer) and `m` (model_type)\n",
    "  lyr_name = l[0]\n",
    "  lyr_obj = l[1]\n",
    "  ln_split = str(lyr_name).split('.', 4)\n",
    "  ln_n_splits = len(ln_split)\n",
    "  lyr_str = str(lyr_obj)\n",
    "\n",
    "  tch_cls_str = str(type(lyr_obj))\n",
    "  tch_cls_substr =  tch_cls_str[tch_cls_str.find(\"<class\")+8: tch_cls_str.find(\">\")-1]\n",
    "  tch_cls = tch_cls_substr.split('.')[-1]\n",
    "\n",
    "  div = tch_cls if lyr_name == '0' or lyr_name == '1' else ''\n",
    "  mod = tch_cls if ln_n_splits == 2 else ''\n",
    "  blk = tch_cls if ln_n_splits == 3 and not lyr_name.startswith('1') else ''\n",
    "  lyr = lyr_str[:90]\n",
    "\n",
    "  # customise generic row for peculiarities of specific models\n",
    "  if m == 'vgg' or m == 'alexnet':\n",
    "    if ln_n_splits >2: ln_split[2] = '' \n",
    "    blk = ''\n",
    "\n",
    "  elif m == 'squeezenet':\n",
    "     blk = tch_cls if ln_n_splits == 3 and tch_cls == 'Fire' else '' \n",
    "     if blk == 'Fire': lyr = ''   \n",
    "\n",
    "  elif m == 'resnet':\n",
    "    if blk == 'BasicBlock' or blk == 'Bottleneck': lyr = ''\n",
    "    else:\n",
    "      if ln_n_splits > 4: lyr = f\". {lyr_str[:87]}\" \n",
    "      if ln_n_splits == 4 and ln_split[3] == 'downsample': lyr = tch_cls\n",
    "       \n",
    "  elif m == 'densenet':\n",
    "    lyr_name = lyr_name.replace('denseblock', '').replace('denselayer', '')\n",
    "    ln_split = str(lyr_name).split('.', 4)\n",
    "    mod = tch_cls if (lyr_name.startswith('0') and ln_n_splits == 3) or (lyr_name.startswith('1') and ln_n_splits == 2) else ''\n",
    "    blk = tch_cls if ln_n_splits == 4 and tch_cls == '_DenseLayer' else '' \n",
    "    if mod == '_DenseBlock' or mod == '_Transition' or blk == '_DenseLayer': \n",
    "      lyr = ''\n",
    "    else: \n",
    "      if lyr_name == '0' or lyr_name == '1': div = tch_cls \n",
    "      if lyr_name == '0.0': div = f'. {tch_cls}'\n",
    "      \n",
    "  elif m == 'xresnet':\n",
    "    blk = tch_cls if ln_n_splits == 3 and tch_cls == 'ResBlock' else '' \n",
    "    if mod == 'ConvLayer' or blk == 'ResBlock': \n",
    "      lyr = ''\n",
    "    else:\n",
    "      if ln_n_splits < 4: lyr =  lyr_str[:90]\n",
    "      elif ln_n_splits == 4 and tch_cls == 'Sequential': lyr =  tch_cls\n",
    "      elif ln_n_splits == 4 and tch_cls == 'ReLU': lyr =  lyr_str[:90]\n",
    "      elif ln_n_splits == 5 and tch_cls == 'ConvLayer': lyr =  f'. {tch_cls}'\n",
    "      else: lyr =  f'. . {lyr_str[:82]}'\n",
    "\n",
    "  else:\n",
    "    raise Exception(\"Model type not recognised\")\n",
    "  \n",
    "  return {\n",
    "      'Layer_name': lyr_name, \n",
    "      'Model': tch_cls if lyr_name == '' else '',\n",
    "      'Division': div,\n",
    "      'Module': mod,\n",
    "      'Block': blk, \n",
    "      'Layer_description': lyr,\n",
    "      'Torch_class': tch_cls_substr,\n",
    "      'Output_dimensions': '',\n",
    "      'Parameters': '',\n",
    "      'Trainable': '',\n",
    "      'Currently': '',\n",
    "      'div_id': ln_split[0] if ln_n_splits >0 else '',  \n",
    "      'mod_id': ln_split[1] if ln_n_splits >1 else '',  \n",
    "      'blk_id': ln_split[2] if ln_n_splits >2 else '',\n",
    "      'lyr_id': ln_split[3] if ln_n_splits >3 else '',\n",
    "      'tch_cls': tch_cls,\n",
    "      'out_dim': '',\n",
    "      'current': '',\n",
    "      'lyr_blk': '', \n",
    "      'lyr_mod': '',\n",
    "      'blk_mod': '',\n",
    "      'lyr_obj': lyr_obj\n",
    "      }"
   ]
  },
  {
   "cell_type": "code",
   "execution_count": null,
   "metadata": {},
   "outputs": [],
   "source": [
    "#export\n",
    "def find_model(n): \n",
    "    \"Returns tuple of model type and name (e.g. ('resnet', 'resnet50')) given `n`, the number of named_modules in `learn.model.named_modules()`\"\n",
    "    for d in models:\n",
    "      match = [(k, m) for k, v in d.items() for m, l in v if l == n]\n",
    "      if match != []: break\n",
    "    if len(match) > 0: return match[0] # (model_type, model_name)\n",
    "    assert True, 'Model not supported. Type supported_models() to get a list of supported models.'"
   ]
  },
  {
   "cell_type": "code",
   "execution_count": null,
   "metadata": {},
   "outputs": [],
   "source": [
    "#export\n",
    "@dataclass\n",
    "class CNDataFrame:\n",
    "  \"Compile information from fastai `learner` and 'layer_info(learner)` into a dataframe\"\n",
    "  learner: any\n",
    "  layer_info: tuple\n",
    "\n",
    "  def sz_tn(t):\n",
    "    \"Adds batch size `bs` to a list if layer dimensions `t`\"\n",
    "    return [self.bs if i==0 else s for i, s in enumerate(t)]\n",
    "\n",
    "  def __post_init__(self):\n",
    "    self.model = self.learner.model                                         # fastai `learner.model` object\n",
    "    self.layers = list(self.learner.model.named_modules())                  # fastai `named_modules` method\n",
    "    self.num_layers = len(self.layers)                    \n",
    "    self.model_type, self.model_name = find_model(self.num_layers)\n",
    "\n",
    "    inp, info = self.layer_info                                   \n",
    "    self.input_sizes = [sz for sz in inp[0].shape]                          # `inp_sz` =  (bs, ch, h, w)\n",
    "    self.bs = self.input_sizes[0]                               \n",
    "\n",
    "    # create base dataframe `df` from a list of formatted rows in `layers`\n",
    "    df = DataFrame([get_row(l, self.model_type) for l in self.layers]) \n",
    "\n",
    "    # remove layer descriptions from container rows\n",
    "    df.at[0, 'Layer_description'] = ''\n",
    "    df.loc[(df['Division'].str.contains('Sequential')) | \\\n",
    "          (df['Module'] == 'Sequential') | \\\n",
    "          (df['Module'] == 'AdaptiveConcatPool2d'), 'Layer_description'] = ''\n",
    "\n",
    "    # add layer info (`o`, `p`, `t`, and `Frozen`/`Unfrozen`) from layer_info to all non-container rows\n",
    "    info_gen = ((_, p, t, self.add_bs(o)) for _, p, t, o in info) # info_gen = generator\n",
    "    for row in df.itertuples(): \n",
    "      idx = row.Index\n",
    "      if row.Layer_description not in ['', '. ConvLayer', 'Sequential']:\n",
    "        _, p, t, o = next(info_gen)\n",
    "        df.at[idx, 'Output_dimensions'] = str(o)\n",
    "        df.at[idx, 'Parameters'] =  p\n",
    "        df.at[idx, 'Trainable'] = t\n",
    "        if 'Conv2d' in row.Torch_class:\n",
    "          df.at[idx, 'Currently'] = 'Unfrozen' if t else 'Frozen'\n",
    "\n",
    "    # backfill container rows with summary layer information and layer/block counts\n",
    "    # 1.set up index stores and counters\n",
    "    m, b  = 0, 0                              \n",
    "    layer_count = [0, 0, 0]                                       # layers in [divs, modules, blocks]\n",
    "    block_count = [0, 0]                                          # blocks in [divs, modules]\n",
    "    frozen_count=[[0,0], [0, 0], [0,0]]                           # [Frozen, Unfrozen] layers in [divs, modules, blocks],  \n",
    "\n",
    "    # 2.iterate over rows, incrementing counters with each new row\n",
    "    for row in df.itertuples():\n",
    "      idx = row.Index\n",
    "      if row.Currently == 'Frozen':\n",
    "        for i in [0,1,2]: frozen_count[i][0] += 1 \n",
    "      if row.Currently == 'Unfrozen':\n",
    "        for i in [0,1,2]: frozen_count[i][1] += 1\n",
    "      if row.Layer_description != '':\n",
    "        for i in [0,1,2]: layer_count[i] += 1 \n",
    "\n",
    "      # backfill 'Module' container rows with layer_info and block and layer counts\n",
    "      if (row.Output_dimensions == '' and row.Module != '') or row.Layer_name == '1':\n",
    "        m = idx if m == 0 else m\n",
    "        df.at[m, 'out_dim'] = df.at[idx-1, 'Output_dimensions']\n",
    "        df.at[m, ['current', 'blk_mod', 'lyr_mod']] = self.get_frozen(frozen_count[1]), block_count[1], layer_count[1] \n",
    "        m = idx\n",
    "        layer_count[1] = block_count[1] = 0\n",
    "        for i in [0, 1]: frozen_count[1][i] = 0\n",
    "\n",
    "      # backfill 'Block' container rows with layer_info and layer counts\n",
    "      if (row.Output_dimensions == '' and row.Block != '') or row.Layer_name == '1':\n",
    "        b = idx if b == 0 else b\n",
    "        df.at[b, 'out_dim'] = df.at[idx-1, 'Output_dimensions'] or df.at[idx-2, 'Output_dimensions']  \n",
    "        df.at[b, ['current', 'lyr_blk']] = self.get_frozen(frozen_count[2]), layer_count[2]\n",
    "        b = idx\n",
    "        layer_count[2] = 0\n",
    "        for i in [0, 1]: block_count[i] += 1\n",
    "        for i in [0, 1]: frozen_count[2][i] = 0\n",
    "      \n",
    "    # 3.backfill division container rows with summary layer_info and block and layer counts\n",
    "    div0_idx = df[df['Layer_name'] == '0'].index.tolist()[0]\n",
    "    div1_idx = df[df['Layer_name'] == '1'].index.tolist()[0] \n",
    "\n",
    "    df.at[div0_idx, 'out_dim'] = df.at[div1_idx-1, 'Output_dimensions'] or df.at[div1_idx-2, 'Output_dimensions']  \n",
    "    df.at[div0_idx, ['current', 'lyr_mod', 'blk_mod']] = self.get_frozen(frozen_count[0]), layer_count[0], block_count[0]\n",
    "\n",
    "    df.at[div1_idx, 'out_dim'] = df.iloc[-1]['Output_dimensions']\n",
    "\n",
    "    self._cndf = df\n",
    "\n",
    "  \n",
    "  def add_bs(self, dims):\n",
    "    \"Adds batch size `bs` to a list if layer dimensions `dims`\"\n",
    "    return [self.bs if i==0 else s for i, s in enumerate(dims)]\n",
    "\n",
    "  @staticmethod\n",
    "  def get_frozen(f):\n",
    "    \"Returns a string interpretation of the number of frozen/unfrozen layers in tuple `f`\"\n",
    "    if f[0] == 0: return 'Unfrozen'\n",
    "    elif f[1] == 0: return 'Frozen'\n",
    "    else: return f'{f[0]}/{(f[0]+f[1])} layers frozen'\n",
    "\n",
    "  @property\n",
    "  def output_dimensions(self):\n",
    "    \"Returns output dimensions of model (bs, classes)\"\n",
    "    return self._cndf.iloc[-1]['Output_dimensions']\n",
    "\n",
    "  @property\n",
    "  def frozen_to(self):\n",
    "    \"Returns parameter group model is curently frozen to\"\n",
    "    return self.learner.opt.frozen_idx + 1\n",
    "\n",
    "  @property\n",
    "  def num_param_groups(self):\n",
    "    \"Returns number of parameter groups\"\n",
    "    return len(self.learner.opt.param_groups)\n",
    "\n",
    "  @property\n",
    "  def model_info(self):\n",
    "    \"Return an info string derived from`learn.model`\"  \n",
    "    res = f\"{self.model_type.capitalize()}: {self.model_name.capitalize()}\\n\"\n",
    "    res += f\"Input shape: {self.input_sizes} (bs, ch, h, w)\\n\"\n",
    "    res += f\"Output features: {self.output_dimensions} (bs, classes)\\n\" \n",
    "    res += f\"Currently frozen to parameter group {self.frozen_to} out of {self.num_param_groups}\" \n",
    "    return res\n",
    "\n",
    "  @staticmethod\n",
    "  def supported_models():\n",
    "    \"Prints list of supported models from 'models' list (imported from models)\"\n",
    "    print('Supported models')\n",
    "    print('================\\n')\n",
    "    for d in models:\n",
    "        [[print(m) for m, l in v] for k, v in d.items()]"
   ]
  },
  {
   "cell_type": "code",
   "execution_count": null,
   "metadata": {},
   "outputs": [],
   "source": [
    "#export\n",
    "class CNViewer:\n",
    "  \"Class to view a convnav dataframe\"\n",
    "\n",
    "  def copy_layerinfo(self, df):\n",
    "    \"Copy layer information and block/layer counts over from silent columns to displayed columns\"\n",
    "    df.loc[df['Division'] == '', 'Division'] = df['div_id']\n",
    "    df.loc[df['Module'] == '', 'Module'] = df['mod_id']\n",
    "    df.loc[df['Block'] == '', 'Block'] = df['blk_id']\n",
    "    df.loc[df['Output_dimensions'] == '', 'Output_dimensions'] = df['out_dim']\n",
    "    df.loc[df['Currently'] == '', 'Currently'] = df['current']\n",
    "    return df\n",
    "\n",
    "  def view(self, df=None, verbose=3, tight=True, truncate=0, align_cols='left', head=False, return_df=False):\n",
    "    \"Display dataframe `df` with options and styling\"\n",
    "\n",
    "    _df = df if df is not None else self._cndf.copy()\n",
    "\n",
    "    assert type(_df) == DataFrame and 'Layer_name' in _df.columns, 'Not a valid convnav dataframe'\n",
    "    assert isinstance(truncate, int) and -10 <= truncate <= 10, f\"Argument 'truncate' must be an integer between -10 (show more cols) and +10 (show fewer cols)\"\n",
    "    assert isinstance(verbose, int) and 1 <= verbose <= 4, f\"Argument verbose must be 1 2 or 3 \"\n",
    "    if not isinstance(tight, bool): tight = True\n",
    "\n",
    "    if len(_df) < 10: tight = False\n",
    "    if verbose != 3: truncate = (10, 4, 0, -10)[verbose-1]\n",
    "\n",
    "    post_msg = ''\n",
    "    if head and len(_df) > 10:\n",
    "      post_msg = f'...{len(_df)-10} more layers'\n",
    "      _df = _df.iloc[:10]\n",
    "      tight=False\n",
    "      \n",
    "    _df.index.name = 'Index'\n",
    "\n",
    "    if len(_df) == 0:\n",
    "      print('No data to display')\n",
    "      return None\n",
    "\n",
    "    with option_context(\"display.max_rows\", 1000): \n",
    "      _df_styled = _df.iloc[:,:-(11+truncate)].style.set_properties(**{'text-align': align_cols})\n",
    "      if tight: \n",
    "        display(_df_styled)\n",
    "      else:\n",
    "        display(_df.iloc[:,:-(11+truncate)]) \n",
    "    print(post_msg)\n",
    "\n",
    "    if return_df: return(_df)\n",
    "\n",
    "  def copy_view(self, df, **kwargs):\n",
    "    \"Copy over layer information then display dataframe\"\n",
    "    df = self.copy_layerinfo(df)\n",
    "    self.view(df=df, **kwargs)\n",
    "\n"
   ]
  },
  {
   "cell_type": "code",
   "execution_count": null,
   "metadata": {},
   "outputs": [],
   "source": [
    "#export\n",
    "class CNSearch:\n",
    "  \"Class to search a convnav dataframe, display the results in a datafarme and return the matching layer objects\"\n",
    "\n",
    "  def find_layer(self, df, searchterm, exact):\n",
    "\n",
    "    if isinstance(searchterm, int):\n",
    "      assert searchterm >= 0 and searchterm <= len(self._cndf), f'Layer ID out of range: min 0, max {len(df)}'\n",
    "      x = df.iloc[searchterm].copy()\n",
    "      x = DataFrame(x).transpose()\n",
    "      return x    \n",
    "      \n",
    "    if isinstance(searchterm, float):\n",
    "      searchterm = str(searchterm)\n",
    "\n",
    "    if isinstance(searchterm, dict):\n",
    "      for col, s in searchterm.items():\n",
    "        assert col in df.columns, f'{col} not a valid column identifier. Valid column names are {df.columns[-1]}'\n",
    "        return df[df[col] == s].copy() if exact else df[df[col].str.contains(s)].copy()\n",
    "      return x\n",
    "\n",
    "    if isinstance(searchterm, str):\n",
    "      searchterm = searchterm.strip(' \\.')\n",
    "      cols = {'Layer_name', 'Torch_class', 'Division', 'Module', 'Block', 'Layer_description'}\n",
    "      if exact: \n",
    "        for col in cols:\n",
    "          x = df[df[col] == searchterm].copy()\n",
    "          if not x.empty: return x\n",
    "      else: \n",
    "        for col in cols:\n",
    "          x = df[df[col].str.contains(searchterm)].copy()\n",
    "          if not x.empty: return x\n",
    "      return x\n",
    "         \n",
    "    assert True, 'Unrecognizable searchterm'\n",
    "        \n",
    "  def search(self, searchterm, exact=True): \n",
    "    \"finds any one, list of or combination of container(s), block(s) or layer(s) in the model_df\"\n",
    "\n",
    "    _df = copy(self._cndf)\n",
    "\n",
    "    if isinstance(searchterm, float):\n",
    "      searchterm = str(searchterm)    \n",
    "      \n",
    "    if isinstance(searchterm, int):\n",
    "      _df = self.find_layer(_df, searchterm, True) \n",
    "      \n",
    "    elif isinstance(searchterm, str):\n",
    "      _df = self.find_layer(_df, searchterm, exact)  \n",
    "      \n",
    "    elif isinstance(searchterm, dict):\n",
    "      _df = DataFrame()  \n",
    "      for col, s in searchterm.items():\n",
    "        new_df = self.find_layer(self._cndf, {col:s}, exact)\n",
    "        _df = pd.concat((_df, new_df), axis=0, ignore_index=False).drop_duplicates('Layer_name')\n",
    "\n",
    "    elif isinstance(searchterm, list):\n",
    "      _df = DataFrame()  \n",
    "      for s in searchterm: \n",
    "        new_df = self.find_layer(self._cndf, s, exact)\n",
    "        _df = pd.concat((_df, new_df), axis=0, ignore_index=False).drop_duplicates('Layer_name')\n",
    "\n",
    "    elif isinstance(searchterm, tuple):\n",
    "      for s in searchterm:\n",
    "        _df = self.find_layer(_df, s, exact)\n",
    "\n",
    "    else: \n",
    "      assert True, 'Unrecognizable searchterm'\n",
    "\n",
    "    if _df is not None and not _df.empty:\n",
    "      print(f'{len(_df)} layers found matching searchterm(s): {searchterm}\\n')\n",
    "      self.view(df=_df)\n",
    "      return _df['lyr_obj'].tolist()\n",
    "    else: \n",
    "      print(f'No matches for searchterm(s): {searchterm}\\n')\n",
    "      return None"
   ]
  },
  {
   "cell_type": "code",
   "execution_count": null,
   "metadata": {},
   "outputs": [],
   "source": [
    "#export\n",
    "class ConvNav(CNDataFrame, CNSearch, CNViewer):\n",
    "  \"Class to view fastai supported CNNs, search and select module(s) and layer(s) for further investigation\"\n",
    "  def __init__(self, learner, layer_info):\n",
    "    super().__init__(learner, layer_info )\n",
    "\n",
    "  def __len__(self):\n",
    "    return len(self._cndf)\n",
    "\n",
    "  def __str__(self) -> str:\n",
    "    return self.model_info\n",
    "\n",
    "  def __call__(self):\n",
    "    self.view(head=True)\n",
    "\n",
    "  def __contains__(self, s):\n",
    "    return self.search(s)\n",
    "\n",
    "  @property\n",
    "  def head(self):\n",
    "    \"Print `model` head summary info and layers\"\n",
    "    df = self._cndf.copy()\n",
    "    df = df[df['Layer_name'].str.startswith('1')]\n",
    "    if not df.empty:\n",
    "      res = f\"{self.model_type.capitalize()}: {self.model_name.capitalize()}\\n\"\n",
    "      res += f\"Input shape: {self._cndf.iloc[1]['out_dim']} (bs, filt, h, w)\\n\"\n",
    "      res += f\"Output features: {self.output_dimensions} (bs, classes)\\n\" \n",
    "      print(res)\n",
    "      self.view(df, truncate=1)\n",
    "    else:\n",
    "      res = \"Model has no head\"\n",
    "      print(res)\n",
    "\n",
    "  @property\n",
    "  def body(self):\n",
    "    \"Print `model` body summary info and layers\"\n",
    "    df = self._cndf.copy()\n",
    "    df = df.loc[df['Layer_name'].str.startswith('0')]\n",
    "    if not df.empty:\n",
    "      res = f\"{self.model_type.capitalize()}: {self.model_name.capitalize()}\\n\"\n",
    "      res += f\"Input shape: {self.input_sizes} (bs, ch, h, w)\\n\"\n",
    "      res += f\"Output dimensions: {df.iloc[-1]['Output_dimensions']} (bs, filt, h, w)\\n\"\n",
    "      res += f\"Currently frozen to parameter group {self.frozen_to} out of {self.num_param_groups}\\n\" \n",
    "      print(res)\n",
    "      self.view(df)\n",
    "    else:\n",
    "      res = \"Model body has no contents\"\n",
    "      print(res)\n",
    "\n",
    "  @property\n",
    "  def divs(self):\n",
    "    \"Print Summary information from `model` head and body\"\n",
    "    df = self._cndf[(self._cndf['Layer_name'] == '0') | (self._cndf['Layer_name'] == '1')].copy()\n",
    "\n",
    "    for i in range(2):\n",
    "      df_div = self._cndf.loc[self._cndf['div_id'] == str(i)].copy()\n",
    "      df.iloc[i]['Model'] = self.model_name\n",
    "      df.iloc[i]['Module'] = len(df_div[df_div['Module'] != ''])\n",
    "      df.iloc[i]['Block'] = len(df_div[df_div['Block'] != ''])\n",
    "      df.iloc[i]['Layer_description'] = len(df_div[df_div['Layer_description'] != ''])\n",
    "      params = df_div['Parameters'].values\n",
    "      params_summed = sum(filter(lambda i: isinstance(i, int), params))\n",
    "      df.iloc[i]['Parameters'] = params_summed\n",
    "\n",
    "    df['Output_dimensions'] = df['out_dim']\n",
    "    df.iloc[0]['Currently'] = df.iloc[0]['current']\n",
    "\n",
    "    df = df.rename(columns={'Module': 'Child modules', 'Block': 'Blocks', 'Layer_description': 'Layers'})\n",
    "    print(f\"{self.model_name.capitalize()}\\nDivisions:  body (0), head (1)\\n\")\n",
    "    self.view(df, tight=False)\n",
    "\n",
    "  @property\n",
    "  def dim_transitions(self):\n",
    "    \"Prints and returns all `model` layers which change dimensions between input and output\"\n",
    "    df = self._cndf[self._cndf['Torch_class'].str.contains('Conv2d')].copy()\n",
    "\n",
    "    n = []\n",
    "    old_dims = 0\n",
    "    for i, row in enumerate(df.iterrows()):\n",
    "      row=row[1]\n",
    "      new_dims = row['Output_dimensions'].rstrip(']').split(',')[-1]\n",
    "      if new_dims != old_dims:\n",
    "        n.append(i)\n",
    "        old_dims = new_dims\n",
    "    df = df.iloc[n]\n",
    "\n",
    "    print(f\"{self.model_name.capitalize()}\\nLayer dimension changes\\n\")\n",
    "    self.copy_view(df, tight=False)\n",
    "    return df['lyr_obj'].tolist()\n",
    "\n",
    "  @property\n",
    "  \n",
    "  def linear_layers(self):\n",
    "    \"Prints and returns all linear layers in the `model`\"\n",
    "    df = self._cndf[self._cndf['Torch_class'].str.contains('Linear')].copy()\n",
    "    df['Division'] = df['div_id']\n",
    "\n",
    "    print(f\"{self.model_name.capitalize()} linear layers\\n\")\n",
    "    self.view(df, truncate=1, tight=False)\n",
    "    return df['lyr_obj'].tolist()"
   ]
  },
  {
   "cell_type": "code",
   "execution_count": null,
   "metadata": {},
   "outputs": [
    {
     "data": {
      "text/markdown": "<h4 id=\"ConvNav.head\" class=\"doc_header\"><code>ConvNav.head</code><a href=\"\" class=\"source_link\" style=\"float:right\">[source]</a></h4>\n\nPrint `model` head summary info and layers",
      "text/plain": [
       "<IPython.core.display.Markdown object>"
      ]
     },
     "metadata": {
      "tags": []
     },
     "output_type": "display_data"
    }
   ],
   "source": [
    "show_doc(ConvNav.head)"
   ]
  },
  {
   "cell_type": "code",
   "execution_count": null,
   "metadata": {},
   "outputs": [
    {
     "data": {
      "text/markdown": "<h4 id=\"ConvNav.body\" class=\"doc_header\"><code>ConvNav.body</code><a href=\"\" class=\"source_link\" style=\"float:right\">[source]</a></h4>\n\nPrint `model` body summary info and layers",
      "text/plain": [
       "<IPython.core.display.Markdown object>"
      ]
     },
     "metadata": {
      "tags": []
     },
     "output_type": "display_data"
    }
   ],
   "source": [
    "show_doc(ConvNav.body)"
   ]
  },
  {
   "cell_type": "code",
   "execution_count": null,
   "metadata": {},
   "outputs": [
    {
     "data": {
      "text/markdown": "<h4 id=\"ConvNav.divs\" class=\"doc_header\"><code>ConvNav.divs</code><a href=\"\" class=\"source_link\" style=\"float:right\">[source]</a></h4>\n\nPrint Summary information from `model` head and body",
      "text/plain": [
       "<IPython.core.display.Markdown object>"
      ]
     },
     "metadata": {
      "tags": []
     },
     "output_type": "display_data"
    }
   ],
   "source": [
    "show_doc(ConvNav.divs)"
   ]
  },
  {
   "cell_type": "code",
   "execution_count": null,
   "metadata": {},
   "outputs": [
    {
     "data": {
      "text/markdown": "<h4 id=\"ConvNav.dim_transitions\" class=\"doc_header\"><code>ConvNav.dim_transitions</code><a href=\"\" class=\"source_link\" style=\"float:right\">[source]</a></h4>\n\nPrints and returns all `model` layers which change dimensions between input and output",
      "text/plain": [
       "<IPython.core.display.Markdown object>"
      ]
     },
     "metadata": {
      "tags": []
     },
     "output_type": "display_data"
    }
   ],
   "source": [
    "show_doc(ConvNav.dim_transitions)"
   ]
  },
  {
   "cell_type": "markdown",
   "metadata": {},
   "source": [
    "> Finds conv layers in the model where activation dimensions change betwen input and output. Transition layers are often good points to investigate model function and `dim_transitions` returns the layer objects for attaching callbacks and hooks. "
   ]
  },
  {
   "cell_type": "code",
   "execution_count": null,
   "metadata": {},
   "outputs": [
    {
     "name": "stdout",
     "output_type": "stream",
     "text": [
      "Densenet121\n",
      "Layer dimension changes\n",
      "\n"
     ]
    },
    {
     "data": {
      "text/html": [
       "<div>\n",
       "<style scoped>\n",
       "    .dataframe tbody tr th:only-of-type {\n",
       "        vertical-align: middle;\n",
       "    }\n",
       "\n",
       "    .dataframe tbody tr th {\n",
       "        vertical-align: top;\n",
       "    }\n",
       "\n",
       "    .dataframe thead th {\n",
       "        text-align: right;\n",
       "    }\n",
       "</style>\n",
       "<table border=\"1\" class=\"dataframe\">\n",
       "  <thead>\n",
       "    <tr style=\"text-align: right;\">\n",
       "      <th></th>\n",
       "      <th>Layer_name</th>\n",
       "      <th>Model</th>\n",
       "      <th>Division</th>\n",
       "      <th>Module</th>\n",
       "      <th>Block</th>\n",
       "      <th>Layer_description</th>\n",
       "      <th>Torch_class</th>\n",
       "      <th>Output_dimensions</th>\n",
       "      <th>Parameters</th>\n",
       "      <th>Trainable</th>\n",
       "      <th>Currently</th>\n",
       "    </tr>\n",
       "    <tr>\n",
       "      <th>Index</th>\n",
       "      <th></th>\n",
       "      <th></th>\n",
       "      <th></th>\n",
       "      <th></th>\n",
       "      <th></th>\n",
       "      <th></th>\n",
       "      <th></th>\n",
       "      <th></th>\n",
       "      <th></th>\n",
       "      <th></th>\n",
       "      <th></th>\n",
       "    </tr>\n",
       "  </thead>\n",
       "  <tbody>\n",
       "    <tr>\n",
       "      <th>3</th>\n",
       "      <td>0.0.conv0</td>\n",
       "      <td></td>\n",
       "      <td>0</td>\n",
       "      <td>Conv2d</td>\n",
       "      <td>conv0</td>\n",
       "      <td>Conv2d(3, 64, kernel_size=(7, 7), stride=(2, 2), padding=(3, 3), bias=False)</td>\n",
       "      <td>torch.nn.modules.conv.Conv2d</td>\n",
       "      <td>[128, 64, 112, 112]</td>\n",
       "      <td>9408</td>\n",
       "      <td>False</td>\n",
       "      <td>Frozen</td>\n",
       "    </tr>\n",
       "    <tr>\n",
       "      <th>11</th>\n",
       "      <td>0.0.1.1.conv1</td>\n",
       "      <td></td>\n",
       "      <td>0</td>\n",
       "      <td>0</td>\n",
       "      <td>1</td>\n",
       "      <td>Conv2d(64, 128, kernel_size=(1, 1), stride=(1, 1), bias=False)</td>\n",
       "      <td>torch.nn.modules.conv.Conv2d</td>\n",
       "      <td>[128, 128, 56, 56]</td>\n",
       "      <td>8192</td>\n",
       "      <td>False</td>\n",
       "      <td>Frozen</td>\n",
       "    </tr>\n",
       "    <tr>\n",
       "      <th>59</th>\n",
       "      <td>0.0.2.1.conv1</td>\n",
       "      <td></td>\n",
       "      <td>0</td>\n",
       "      <td>0</td>\n",
       "      <td>2</td>\n",
       "      <td>Conv2d(128, 128, kernel_size=(1, 1), stride=(1, 1), bias=False)</td>\n",
       "      <td>torch.nn.modules.conv.Conv2d</td>\n",
       "      <td>[128, 128, 28, 28]</td>\n",
       "      <td>16384</td>\n",
       "      <td>False</td>\n",
       "      <td>Frozen</td>\n",
       "    </tr>\n",
       "    <tr>\n",
       "      <th>149</th>\n",
       "      <td>0.0.3.1.conv1</td>\n",
       "      <td></td>\n",
       "      <td>0</td>\n",
       "      <td>0</td>\n",
       "      <td>3</td>\n",
       "      <td>Conv2d(256, 128, kernel_size=(1, 1), stride=(1, 1), bias=False)</td>\n",
       "      <td>torch.nn.modules.conv.Conv2d</td>\n",
       "      <td>[128, 128, 14, 14]</td>\n",
       "      <td>32768</td>\n",
       "      <td>False</td>\n",
       "      <td>Frozen</td>\n",
       "    </tr>\n",
       "    <tr>\n",
       "      <th>323</th>\n",
       "      <td>0.0.4.1.conv1</td>\n",
       "      <td></td>\n",
       "      <td>0</td>\n",
       "      <td>0</td>\n",
       "      <td>4</td>\n",
       "      <td>Conv2d(512, 128, kernel_size=(1, 1), stride=(1, 1), bias=False)</td>\n",
       "      <td>torch.nn.modules.conv.Conv2d</td>\n",
       "      <td>[128, 128, 7, 7]</td>\n",
       "      <td>65536</td>\n",
       "      <td>False</td>\n",
       "      <td>Frozen</td>\n",
       "    </tr>\n",
       "  </tbody>\n",
       "</table>\n",
       "</div>"
      ],
      "text/plain": [
       "          Layer_name Model Division  ... Parameters Trainable Currently\n",
       "Index                                ...                               \n",
       "3          0.0.conv0              0  ...       9408     False    Frozen\n",
       "11     0.0.1.1.conv1              0  ...       8192     False    Frozen\n",
       "59     0.0.2.1.conv1              0  ...      16384     False    Frozen\n",
       "149    0.0.3.1.conv1              0  ...      32768     False    Frozen\n",
       "323    0.0.4.1.conv1              0  ...      65536     False    Frozen\n",
       "\n",
       "[5 rows x 11 columns]"
      ]
     },
     "metadata": {
      "tags": []
     },
     "output_type": "display_data"
    },
    {
     "name": "stdout",
     "output_type": "stream",
     "text": [
      "\n"
     ]
    }
   ],
   "source": [
    "cn = ConvNav(learn, layer_info(learn))\n",
    "layers = cn.dim_transitions"
   ]
  },
  {
   "cell_type": "code",
   "execution_count": null,
   "metadata": {},
   "outputs": [
    {
     "data": {
      "text/plain": [
       "[Conv2d(3, 64, kernel_size=(7, 7), stride=(2, 2), padding=(3, 3), bias=False),\n",
       " Conv2d(64, 128, kernel_size=(1, 1), stride=(1, 1), bias=False),\n",
       " Conv2d(128, 128, kernel_size=(1, 1), stride=(1, 1), bias=False),\n",
       " Conv2d(256, 128, kernel_size=(1, 1), stride=(1, 1), bias=False),\n",
       " Conv2d(512, 128, kernel_size=(1, 1), stride=(1, 1), bias=False)]"
      ]
     },
     "execution_count": null,
     "metadata": {
      "tags": []
     },
     "output_type": "execute_result"
    }
   ],
   "source": [
    "layers"
   ]
  },
  {
   "cell_type": "code",
   "execution_count": null,
   "metadata": {},
   "outputs": [
    {
     "data": {
      "text/markdown": "<h4 id=\"ConvNav.linear_layers\" class=\"doc_header\"><code>ConvNav.linear_layers</code><a href=\"\" class=\"source_link\" style=\"float:right\">[source]</a></h4>\n\nPrints and returns all linear layers in the `model`",
      "text/plain": [
       "<IPython.core.display.Markdown object>"
      ]
     },
     "metadata": {
      "tags": []
     },
     "output_type": "display_data"
    }
   ],
   "source": [
    "show_doc(ConvNav.linear_layers)"
   ]
  }
 ],
 "metadata": {
  "kernelspec": {
   "display_name": "Python 3",
   "language": "python",
   "name": "python3"
  }
 },
 "nbformat": 4,
 "nbformat_minor": 0
}
